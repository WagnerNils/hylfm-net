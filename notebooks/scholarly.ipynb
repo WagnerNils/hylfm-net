{
 "cells": [
  {
   "cell_type": "code",
   "execution_count": 12,
   "metadata": {},
   "outputs": [],
   "source": [
    "from scholarly import scholarly"
   ]
  },
  {
   "cell_type": "code",
   "execution_count": 30,
   "metadata": {},
   "outputs": [],
   "source": [
    "refs = [\n",
    "\"Winter, P. W. & Shroff, H. Faster fluorescence microscopy: Advances in high speed biological imaging. Curr. Opin. Chem. Biol. 20, 46–53 (2014).\",\n",
    "\"Katona, G. et al. Fast two-photon in vivo imaging with three-dimensional random-access scanning in large tissue volumes. Nat. Methods 9, 201–208 (2012).\",\n",
    "\"Huisken, J., Swoger, J., Del Bene, F., Wittbrodt, J. & Stelzer, E. H. K. Optical Sectioning Deep Inside Live Embryos by Selective Plane Illumination Microscopy. Science (80-. ). 305, 1007 LP – 1009 (2004).\",\n",
    "\"Abrahamsson, S. et al. Fast multicolor 3D imaging using aberration-corrected multifocus microscopy. Nat. Methods 10, 60–63 (2013).\",\n",
    "\"Tomer, R. et al. SPED Light Sheet Microscopy: Fast Mapping of Biological System Structure and Function. Cell163, 1796–1806 (2015).\",\n",
    "\"Lu, R. et al. Video-rate volumetric functional imaging of the brain at synaptic resolution. Nat. Neurosci. 20, 620–628 (2017).\",\n",
    "\"Levoy, M., Ng, R., Adams, A., Footer, M. & Horowitz, M. Light field microscopy. ACM Trans. Graph. 25, 924 (2006).\",\n",
    "\"Broxton, M. et al. Wave optics theory and 3-D deconvolution for the light field microscope. Opt. Express 21, 25418 (2013).\",\n",
    "\"Prevedel, R. et al. Simultaneous whole-animal 3D imaging of neuronal activity using light-field microscopy. Nat. Methods 11, 727–30 (2014).\",\n",
    "\"Aimon, S. et al. Fast whole brain imaging in adult Drosophila during response to stimuli and behavior. bioRxiv/033803 (2017). doi:10.1101/033803\",\n",
    "\"Nöbauer, T. et al. Video rate volumetric Ca2+ imaging across cortex using seeded iterative demixing (SID) microscopy. Nat. Methods 14, 811–818 (2017).\",\n",
    "\"Pégard, N. C. et al. Compressive light-field microscopy for 3D neural activity recording. Optica 3, 517 (2016).\",\n",
    "\"Wagner, N. et al. Instantaneous isotropic volumetric imaging of fast biological processes. Nat. Methods 16, 497–500 (2019).\",\n",
    "\"Truong, T. V et al. Selective volume illumination microscopy offers synchronous volumetric imaging with high contrast. ill, (2018).\",\n",
    "\"Taylor, M. A., Nöbauer, T., Pernia-Andrade, A., Schlumm, F. & Vaziri, A. Brain-wide 3D light-field imaging of neuronal activity with speckle-enhanced resolution. Optica 5, 345 (2018).\",\n",
    "\"Cohen, N. et al. Enhancing the performance of the light field microscope using wavefront coding. Opt. Express22, 24817–24839 (2014).\",\n",
    "\"Stefanoiu, A., Page, J., Symvoulidis, P., Westmeyer, G. G. & Lasser, T. Artifact-free deconvolution in light field microscopy. Opt. Express 27, 31644 (2019).\",\n",
    "\"Guo, C., Liu, W., Hua, X., Li, H. & Jia, S. Fourier light-field microscopy. Opt. Express 27, 25573 (2019).\",\n",
    "\"Wang, Z. et al. Network-based instantaneous recording and video-rate reconstruction of 4D biological dynamics. bioRxiv 432807 (2020). doi:10.1101/432807\",\n",
    "\"Li, X. et al. DeepLFM: Deep Learning-based 3D Reconstruction for Light Field Microscopy. in Biophotonics Congress: Optics in the Life Sciences Congress 2019 (BODA,BRAIN,NTM,OMA,OMP) NM3C.2 (Optical Society of America, 2019). doi:10.1364/NTM.2019.NM3C.2\",\n",
    "\"Abdelfattah, A. S. et al. Bright and photostable chemigenetic indicators for extended in vivo voltage imaging. Science (80-. ). 365, 699–704 (2019).\",\n",
    "\"Page, J., Saltarin, F., Belyaev, Y., Lyck, R. & Favaro, P. Learning to Reconstruct Confocal Microscopy Stacks from Single Light Field Images. arxiv.org/abs/2003.11004 (2020).\",\n",
    "\"Consortium, T. E. P. et al. An integrated encyclopedia of DNA elements in the human genome. Nature 489, 57 (2012).\",\n",
    "\"Kirchmaier, S. et al. Efficient site-specific transgenesis and enhancer activity tests in medaka using PhiC31 integrase. Development 140, 4287 LP – 4295 (2013).\",\n",
    "\"Kirchmaier, S., Lust, K. & Wittbrodt, J. Golden GATEway Cloning – A Combinatorial Approach to Generate Fusion and Recombination Constructs. PLoS One 8, e76117 (2013).\",\n",
    "\"Stemmer, M., Thumberger, T., del Sol Keyer, M., Wittbrodt, J. & Mateo, J. L. CCTop: An Intuitive, Flexible and Reliable CRISPR/Cas9 Target Prediction Tool. PLoS One 10, e0124633 (2015).\",\n",
    "\"Meijering, E., Dzyubachyk, O. & Smal, I. Methods for cell and particle tracking. Methods Enzymol. 504, 183–200 (2012).\",\n",
    "]\n",
    "cache = {}"
   ]
  },
  {
   "cell_type": "code",
   "execution_count": 33,
   "metadata": {},
   "outputs": [
    {
     "name": "stdout",
     "output_type": "stream",
     "text": [
      " 1 Winter, P. https://www.sciencedirect.com/science/article/pii/S1367593114000544\n",
      " 2 Katona, G. https://www.nature.com/nmeth/journal/v9/n2/abs/nmeth.1851.html\n",
      " 3 Huisken, J https://science.sciencemag.org/content/305/5686/1007.abstract\n",
      " 4 Abrahamsso https://www.nature.com/nmeth/journal/v10/n1/abs/nmeth.2277.html\n",
      " 5 Tomer, R.  https://www.sciencedirect.com/science/article/pii/S0092867415016232\n",
      " 6 Lu, R. et  https://www.nature.com/articles/nn.4516/\n",
      " 7 Levoy, M., https://dl.acm.org/doi/abs/10.1145/1179352.1141976\n",
      " 8 Broxton, M https://www.osapublishing.org/abstract.cfm?uri=oe-21-21-25418\n",
      " 9 Prevedel,  https://www.nature.com/articles/nmeth.2964\n",
      "10 Aimon, S.  https://www.biorxiv.org/content/10.1101/033803v2.full\n",
      "11 Nöbauer, T https://www.nature.com/articles/nmeth.4341.pdf?origin=ppub\n",
      "12 Pégard, N. https://www.osapublishing.org/abstract.cfm?uri=optica-3-5-517\n",
      "13 Wagner, N. https://www.nature.com/articles/s41592-019-0393-z\n",
      "14 Truong, T. https://www.biorxiv.org/content/10.1101/403303v1.abstract\n",
      "15 Taylor, M. https://www.osapublishing.org/abstract.cfm?uri=optica-5-4-345\n",
      "16 Cohen, N.  https://www.osapublishing.org/abstract.cfm?uri=oe-22-20-24817\n",
      "17 Stefanoiu, https://www.osapublishing.org/abstract.cfm?uri=oe-27-22-31644\n",
      "18 Guo, C., L https://www.osapublishing.org/abstract.cfm?uri=oe-27-18-25573\n",
      "19 Wang, Z. e https://www.biorxiv.org/content/10.1101/432807v3.full\n",
      "20 Li, X. et  https://www.osapublishing.org/abstract.cfm?uri=NTM-2019-NM3C.2\n",
      "21 Abdelfatta https://science.sciencemag.org/content/365/6454/699.abstract\n",
      "22 Page, J.,  https://arxiv.org/abs/2003.11004\n",
      "Cannot fetch the page from Google Scholar.\n",
      "24 Kirchmaier https://dev.biologists.org/content/140/20/4287.short\n",
      "25 Kirchmaier https://journals.plos.org/plosone/article?id=10.1371/journal.pone.0076117\n",
      "Cannot fetch the page from Google Scholar.\n",
      "Cannot fetch the page from Google Scholar.\n"
     ]
    }
   ],
   "source": [
    "for i, ref in enumerate(refs):\n",
    "    if ref in cache:\n",
    "        pub = cache[ref]\n",
    "    else:\n",
    "        try:\n",
    "            pub = next(scholarly.search_pubs(ref))\n",
    "        except Exception as e:\n",
    "            print(e)\n",
    "            continue\n",
    "        else:\n",
    "            cache[ref] = pub \n",
    "    \n",
    "    print(f\"{i+1:2} {ref[:10]} {pub.bib['url']}\")    "
   ]
  },
  {
   "cell_type": "code",
   "execution_count": null,
   "metadata": {},
   "outputs": [],
   "source": [
    " 0 Winter, P. https://www.sciencedirect.com/science/article/pii/S1367593114000544\n",
    " 1 Katona, G. https://www.nature.com/nmeth/journal/v9/n2/abs/nmeth.1851.html\n",
    " 2 Huisken, J https://science.sciencemag.org/content/305/5686/1007.abstract\n",
    " 3 Abrahamsso https://www.nature.com/nmeth/journal/v10/n1/abs/nmeth.2277.html\n",
    " 4 Tomer, R.  https://www.sciencedirect.com/science/article/pii/S0092867415016232\n",
    " 5 Lu, R. et  https://www.nature.com/articles/nn.4516/\n",
    " 6 Levoy, M., https://dl.acm.org/doi/abs/10.1145/1179352.1141976\n",
    " 7 Broxton, M https://www.osapublishing.org/abstract.cfm?uri=oe-21-21-25418\n",
    " 8 Prevedel,  https://www.nature.com/articles/nmeth.2964\n",
    " 9 Aimon, S.  https://www.biorxiv.org/content/10.1101/033803v2.full\n",
    "10 Nöbauer, T https://www.nature.com/articles/nmeth.4341.pdf?origin=ppub\n",
    "11 Pégard, N. https://www.osapublishing.org/abstract.cfm?uri=optica-3-5-517\n",
    "12 Wagner, N. https://www.nature.com/articles/s41592-019-0393-z\n",
    "13 Truong, T. https://www.biorxiv.org/content/10.1101/403303v1.abstract\n",
    "14 Taylor, M. https://www.osapublishing.org/abstract.cfm?uri=optica-5-4-345\n",
    "15 Cohen, N.  https://www.osapublishing.org/abstract.cfm?uri=oe-22-20-24817\n",
    "16 Stefanoiu, https://www.osapublishing.org/abstract.cfm?uri=oe-27-22-31644\n",
    "17 Guo, C., L https://www.osapublishing.org/abstract.cfm?uri=oe-27-18-25573\n",
    "18 Wang, Z. e https://www.biorxiv.org/content/10.1101/432807v3.full\n",
    "19 Li, X. et  https://www.osapublishing.org/abstract.cfm?uri=NTM-2019-NM3C.2\n",
    "20 Abdelfatta https://science.sciencemag.org/content/365/6454/699.abstract\n",
    "21 Page, J.,  https://arxiv.org/abs/2003.11004\n",
    "Cannot fetch the page from Google Scholar.\n",
    "23 Kirchmaier https://dev.biologists.org/content/140/20/4287.short\n",
    "24 Kirchmaier https://journals.plos.org/plosone/article?id=10.1371/journal.pone.0076117\n",
    "Cannot fetch the page from Google Scholar.\n",
    "Cannot fetch the page from Google Scholar.\n"
   ]
  },
  {
   "cell_type": "code",
   "execution_count": null,
   "metadata": {},
   "outputs": [],
   "source": []
  },
  {
   "cell_type": "code",
   "execution_count": null,
   "metadata": {},
   "outputs": [],
   "source": []
  },
  {
   "cell_type": "code",
   "execution_count": null,
   "metadata": {},
   "outputs": [],
   "source": []
  }
 ],
 "metadata": {
  "kernelspec": {
   "display_name": "Python 3",
   "language": "python",
   "name": "python3"
  },
  "language_info": {
   "codemirror_mode": {
    "name": "ipython",
    "version": 3
   },
   "file_extension": ".py",
   "mimetype": "text/x-python",
   "name": "python",
   "nbconvert_exporter": "python",
   "pygments_lexer": "ipython3",
   "version": "3.8.5"
  }
 },
 "nbformat": 4,
 "nbformat_minor": 4
}
