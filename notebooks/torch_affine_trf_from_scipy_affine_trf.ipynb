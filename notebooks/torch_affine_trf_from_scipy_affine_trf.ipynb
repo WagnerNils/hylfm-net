{
 "cells": [
  {
   "cell_type": "code",
   "execution_count": null,
   "metadata": {},
   "outputs": [],
   "source": [
    "import matplotlib.pyplot as plt\n",
    "import numpy\n",
    "import torch\n",
    "\n",
    "from scipy.ndimage import affine_transform\n",
    "from tifffile import imread"
   ]
  },
  {
   "cell_type": "code",
   "execution_count": null,
   "metadata": {},
   "outputs": [],
   "source": [
    "def combine(a, b):\n",
    "    assert len(a.shape) == 2\n",
    "    assert a.shape == b.shape\n",
    "    ret = numpy.zeros_like(a)\n",
    "    ret[::2, ::2] = a[::2, ::2]\n",
    "    ret[::2, 1::2] = -b[::2, 1::2]\n",
    "    ret[1::2, 1::2] = a[1::2, 1::2]\n",
    "    ret[1::2, ::2] = -b[1::2, ::2]\n",
    "    return ret"
   ]
  },
  {
   "cell_type": "code",
   "execution_count": null,
   "metadata": {},
   "outputs": [],
   "source": [
    "def trf_scipy(ipt, matrix, output_shape):\n",
    "    assert matrix[3, 0] == 0\n",
    "    assert matrix[3, 1] == 0\n",
    "    assert matrix[3, 2] == 0\n",
    "    assert matrix[3, 3] == 1\n",
    "    return affine_transform(ipt, matrix, output_shape=output_shape, order=0)"
   ]
  },
  {
   "cell_type": "code",
   "execution_count": null,
   "metadata": {},
   "outputs": [],
   "source": [
    "def trf_torch(ipt, scipy_form, output_shape):\n",
    "    dim = len(ipt.shape)\n",
    "    for i in range(dim):\n",
    "        assert scipy_form[dim, i] == 0\n",
    "    \n",
    "    assert scipy_form[dim, dim] == 1\n",
    "    \n",
    "    transposed_scipy = numpy.zeros_like(scipy_form)\n",
    "    transposed_scipy[:dim, :dim] = scipy_form[dim-1::-1, dim-1::-1]\n",
    "    transposed_scipy[:dim, dim] = scipy_form[dim-1::-1, dim]\n",
    "    transposed_scipy[dim, :dim] = scipy_form[dim, dim-1::-1]\n",
    "    transposed_scipy[dim, dim] = scipy_form[dim, dim]\n",
    "    \n",
    "#     ts = numpy.eye(4, dtype=scipy_form.dtype)\n",
    "#     map_pos = {\n",
    "#         (0, 0): (2, 2),\n",
    "#         (0, 1): (2, 1),\n",
    "#         (0, 2): (2, 0),\n",
    "#         (0, 3): (2, 3),\n",
    "#         (1, 0): (1, 2),\n",
    "#         (1, 1): (1, 1),\n",
    "#         (1, 2): (1, 0),\n",
    "#         (1, 3): (1, 3),\n",
    "#         (2, 0): (0, 2),\n",
    "#         (2, 1): (0, 1),\n",
    "#         (2, 2): (0, 0),\n",
    "#         (2, 3): (0, 3),\n",
    "#     }\n",
    "#     for spos, tpos in map_pos.items():\n",
    "#         ts[tpos] = scipy_form[spos]\n",
    "\n",
    "#     assert numpy.allclose(transposed_scipy, ts)\n",
    "    t, h, w = ipt.shape\n",
    "\n",
    "    # extended 2d case with depth as 't' and additional parameters klmnop\n",
    "    # wolfram alpha input: {{2/w, 0, 0, -1}, {0, 2/h, 0, -1}, {0, 0, 2/t, -1}, {0, 0, 0, 1}} * {{a, b, k, c}, {d, e, l, f}, {m, n, o, p}, {0, 0, 0, 1}} * {{2/w, 0, 0, -1}, {0, 2/h, 0, -1},{0, 0, 2/t, -1}, {0, 0, 0, 1}}^-1\n",
    "    a = transposed_scipy[0, 0]\n",
    "    b = transposed_scipy[0, 1]\n",
    "    k = transposed_scipy[0, 2]  # 3d\n",
    "    c = transposed_scipy[0, 3]\n",
    "    d = transposed_scipy[1, 0]\n",
    "    e = transposed_scipy[1, 1]\n",
    "    l = transposed_scipy[1, 2]  # 3d\n",
    "    f = transposed_scipy[1, 3]\n",
    "\n",
    "    m = transposed_scipy[2, 0]  # 3d\n",
    "    n = transposed_scipy[2, 1]  # 3d\n",
    "    o = transposed_scipy[2, 2]  # 3d\n",
    "    p = transposed_scipy[2, 3]  # 3d\n",
    "\n",
    "    theta = numpy.array(\n",
    "        [\n",
    "            [a, b * h / w, k * t / w, a + 2 * c / w + b * h / w + k * t / w - 1],\n",
    "            [d * w / h, e, l * t / h, e + l * t / h + d * w / h + 2 * f / h - 1],\n",
    "            [m * w / t, h * n / t, o, h * n / t + o + m * w / t + 2 * p / t - 1],\n",
    "            # [0, 0, 0, 1],\n",
    "        ]\n",
    "    )\n",
    "    \n",
    "    affine_grid_size = (1, 1) + tuple(output_shape)\n",
    "    affine_grid = torch.nn.functional.affine_grid(theta=torch.from_numpy(theta[None, ...]), size=affine_grid_size, align_corners=False)\n",
    "    \n",
    "    ipt = torch.from_numpy(ipt[None, None, ...])\n",
    "    return torch.nn.functional.grid_sample(\n",
    "        ipt, affine_grid, align_corners=False, mode=\"nearest\", padding_mode=\"zeros\"# \"border\"\n",
    "    ).numpy()[0, 0]"
   ]
  },
  {
   "cell_type": "code",
   "execution_count": null,
   "metadata": {},
   "outputs": [],
   "source": [
    "matrix = numpy.eye(4, dtype=\"float64\")\n",
    "matrix[0, 0] = .7\n",
    "matrix[1, 1] = .8\n",
    "matrix[2, 2] = .9\n",
    "\n",
    "# matrix[0, 1] = .03\n",
    "# matrix[0, 2] = .05\n",
    "matrix[0, 3] = 10\n",
    "matrix[1, 3] = 10\n",
    "matrix[2, 3] = 10\n",
    "\n",
    "matrix[0, 1] = .8\n",
    "matrix[1, 0] = 1.6\n",
    "\n",
    "matrix[1, 2] = .8\n",
    "matrix[2, 1] = 1.6\n",
    "\n",
    "matrix[0, 2] = .8\n",
    "matrix[2, 0] = 1.6\n",
    "# matrix[1, 0] = 2\n",
    "\n",
    "matrix = numpy.linalg.inv(matrix)\n",
    "\n",
    "# matrix =numpy.asarray([[ 0.5,  0.,   0.,   0. ],\n",
    "#  [ 0.  , 1.,   0.,   0. ],\n",
    "#  [ 0. , -8. ,  2. ,  0. ],\n",
    "#  [ 0.  , 0.,   0. ,  1. ]])\n",
    "print(matrix)"
   ]
  },
  {
   "cell_type": "code",
   "execution_count": null,
   "metadata": {},
   "outputs": [],
   "source": [
    "ipt = numpy.ones((100, 200, 300), dtype=\"float64\")\n",
    "out_scipy = trf_scipy(ipt, matrix, ipt.shape)\n",
    "out_torch= trf_torch(ipt, matrix, ipt.shape)"
   ]
  },
  {
   "cell_type": "code",
   "execution_count": null,
   "metadata": {},
   "outputs": [],
   "source": [
    "fig, ax = plt.subplots(ncols=3, figsize=(15, 5))\n",
    "for i in range(3):\n",
    "    ax[i].imshow(combine(out_scipy.max(i), out_torch.max(i)))"
   ]
  },
  {
   "cell_type": "code",
   "execution_count": null,
   "metadata": {},
   "outputs": [],
   "source": []
  },
  {
   "cell_type": "code",
   "execution_count": null,
   "metadata": {},
   "outputs": [],
   "source": []
  },
  {
   "cell_type": "code",
   "execution_count": null,
   "metadata": {},
   "outputs": [],
   "source": []
  },
  {
   "cell_type": "code",
   "execution_count": null,
   "metadata": {},
   "outputs": [],
   "source": []
  },
  {
   "cell_type": "code",
   "execution_count": null,
   "metadata": {},
   "outputs": [],
   "source": []
  },
  {
   "cell_type": "code",
   "execution_count": null,
   "metadata": {},
   "outputs": [],
   "source": []
  },
  {
   "cell_type": "code",
   "execution_count": null,
   "metadata": {},
   "outputs": [],
   "source": []
  },
  {
   "cell_type": "code",
   "execution_count": null,
   "metadata": {},
   "outputs": [],
   "source": []
  },
  {
   "cell_type": "code",
   "execution_count": null,
   "metadata": {},
   "outputs": [],
   "source": []
  },
  {
   "cell_type": "code",
   "execution_count": null,
   "metadata": {},
   "outputs": [],
   "source": []
  },
  {
   "cell_type": "code",
   "execution_count": null,
   "metadata": {},
   "outputs": [],
   "source": [
    "plt.imshow(combine(out_scipy[:, 0], out_torch[:, 0]))\n",
    "plt.colorbar()"
   ]
  },
  {
   "cell_type": "code",
   "execution_count": null,
   "metadata": {},
   "outputs": [],
   "source": [
    "plt.imshow(combine(out_scipy[:, :, 0], out_torch[:, :, 0]))\n",
    "plt.colorbar()"
   ]
  },
  {
   "cell_type": "code",
   "execution_count": null,
   "metadata": {},
   "outputs": [],
   "source": [
    "plt.imshow(out_scipy[0])\n",
    "plt.colorbar()"
   ]
  },
  {
   "cell_type": "code",
   "execution_count": null,
   "metadata": {},
   "outputs": [],
   "source": [
    "plt.imshow(out_torch[0])\n",
    "plt.colorbar()"
   ]
  },
  {
   "cell_type": "code",
   "execution_count": null,
   "metadata": {},
   "outputs": [],
   "source": [
    "plt.imshow(out_scipy[:, 0])\n",
    "plt.colorbar()"
   ]
  },
  {
   "cell_type": "code",
   "execution_count": null,
   "metadata": {},
   "outputs": [],
   "source": [
    "plt.imshow(out_torch[:, 0])\n",
    "plt.colorbar()"
   ]
  },
  {
   "cell_type": "code",
   "execution_count": null,
   "metadata": {},
   "outputs": [],
   "source": [
    "plt.imshow(out_scipy[:, :, 0])\n",
    "plt.colorbar()"
   ]
  },
  {
   "cell_type": "code",
   "execution_count": null,
   "metadata": {},
   "outputs": [],
   "source": [
    "plt.imshow(out_torch[:, :, 0])\n",
    "plt.colorbar()"
   ]
  },
  {
   "cell_type": "code",
   "execution_count": null,
   "metadata": {},
   "outputs": [],
   "source": []
  },
  {
   "cell_type": "code",
   "execution_count": null,
   "metadata": {},
   "outputs": [],
   "source": []
  },
  {
   "cell_type": "code",
   "execution_count": null,
   "metadata": {},
   "outputs": [],
   "source": []
  },
  {
   "cell_type": "code",
   "execution_count": null,
   "metadata": {},
   "outputs": [],
   "source": []
  },
  {
   "cell_type": "code",
   "execution_count": null,
   "metadata": {},
   "outputs": [],
   "source": []
  },
  {
   "cell_type": "code",
   "execution_count": null,
   "metadata": {},
   "outputs": [],
   "source": []
  },
  {
   "cell_type": "code",
   "execution_count": null,
   "metadata": {},
   "outputs": [],
   "source": []
  },
  {
   "cell_type": "code",
   "execution_count": null,
   "metadata": {},
   "outputs": [],
   "source": [
    "plt.imshow(out_scipy[0])\n",
    "plt.colorbar()"
   ]
  },
  {
   "cell_type": "code",
   "execution_count": null,
   "metadata": {},
   "outputs": [],
   "source": [
    "plt.imshow(out_scipy[:, :, 0])\n",
    "plt.colorbar()"
   ]
  },
  {
   "cell_type": "code",
   "execution_count": null,
   "metadata": {},
   "outputs": [],
   "source": []
  }
 ],
 "metadata": {
  "kernelspec": {
   "display_name": "Python 3",
   "language": "python",
   "name": "python3"
  },
  "language_info": {
   "codemirror_mode": {
    "name": "ipython",
    "version": 3
   },
   "file_extension": ".py",
   "mimetype": "text/x-python",
   "name": "python",
   "nbconvert_exporter": "python",
   "pygments_lexer": "ipython3",
   "version": "3.7.3"
  }
 },
 "nbformat": 4,
 "nbformat_minor": 2
}
