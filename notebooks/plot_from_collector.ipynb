{
 "cells": [
  {
   "cell_type": "markdown",
   "metadata": {},
   "source": [
    "# TOC\n",
    "* [beads](#beads)\n",
    "* [heart](#heart)"
   ]
  },
  {
   "cell_type": "code",
   "execution_count": null,
   "metadata": {},
   "outputs": [],
   "source": [
    "# %load_ext autoreload\n",
    "# %autoreload 2\n",
    "\n",
    "import os\n",
    "os.chdir(\"/g/kreshuk/beuttenm/repos/lnet\")\n",
    "from pathlib import Path\n",
    "Path(\".\").absolute()"
   ]
  },
  {
   "cell_type": "code",
   "execution_count": null,
   "metadata": {
    "pycharm": {
     "is_executing": false
    }
   },
   "outputs": [],
   "source": [
    "import pickle\n",
    "import plotly.express\n",
    "from datetime import datetime\n",
    "from plot.collector import Collector"
   ]
  },
  {
   "cell_type": "markdown",
   "metadata": {},
   "source": [
    "# beads <a class=\"anchor\" id=\"beads\"></a>"
   ]
  },
  {
   "cell_type": "code",
   "execution_count": null,
   "metadata": {
    "scrolled": true
   },
   "outputs": [],
   "source": [
    "restore_collector = \"\"\n",
    "if restore_collector:\n",
    "    with Path(restore_collector).open(\"rb\") as f:\n",
    "        collector = pickle.load(f)\n",
    "else:\n",
    "    collector = Collector(\"beads/**/*.yml\", path=Path(\"/g/kreshuk/beuttenm/repos/llnet/logs\"))\n",
    "    print(collector.valid_names())\n",
    "    collector.get_all()\n",
    "    with Path(f\"data/collector{datetime.now().strftime('%y-%m-%d_%H-%M-%S')}.collector\").open(\"wb\") as f:\n",
    "        pickle.dump(collector, f)\n",
    "    \n",
    "collector.data.head()"
   ]
  },
  {
   "cell_type": "code",
   "execution_count": null,
   "metadata": {},
   "outputs": [],
   "source": [
    "collector.data.tail()"
   ]
  },
  {
   "cell_type": "code",
   "execution_count": null,
   "metadata": {},
   "outputs": [],
   "source": [
    "filtered_data = collector.data.copy()\n",
    "filtered_data = filtered_data[filtered_data[\"#parameters\"].notnull()]\n",
    "filtered_data = filtered_data[filtered_data[\"test bead-precision\"].notnull()]\n",
    "# filtered_data = filtered_data.loc[[\"fdyn1\" in n for n in filtered_data[\"config name\"]]]\n",
    "# filtered_data = filtered_data.loc[[scale == 4 for scale in filtered_data[\"output scale\"]]]\n",
    "\n",
    "# derived columns:\n",
    "filtered_data.insert(0, \"model type\", list(map(lambda mn: mn[0], filtered_data[\"model name\"])))\n",
    "filtered_data.head()"
   ]
  },
  {
   "cell_type": "code",
   "execution_count": null,
   "metadata": {},
   "outputs": [],
   "source": [
    "filtered_data.tail()"
   ]
  },
  {
   "cell_type": "code",
   "execution_count": null,
   "metadata": {
    "scrolled": false
   },
   "outputs": [],
   "source": [
    "# filtered_data[\"output scale\"] = filtered_data[\"output scale\"].astype(int)\n",
    "# filtered_data[\"output scale\"] = filtered_data[\"output scale\"].astype(str)\n",
    "\n",
    "for test_metric in [\"test bead-precision\", \"test bead-recall\", \"test ssim\", \"test nrmse\", \"test psnr\"]:\n",
    "    fig = plotly.express.scatter(\n",
    "        filtered_data, \n",
    "        x=\"test ms-ssim\", \n",
    "        y=test_metric, \n",
    "        size=\"output scale\", \n",
    "        hover_data=[\"start time\", \"setup name\", \"test psnr\", \"test ms-ssim\", \"test step count\", \"model name\"],\n",
    "        color=\"model name\",\n",
    "        width=1000, height=800,\n",
    "        facet_row=\"z_out\", \n",
    "        facet_col=\"output scale\",\n",
    "        category_orders={\"output scale\": [1, 2, 4, 8], \"z_out\": [49, 79]},\n",
    "        title=test_metric,\n",
    "    )\n",
    "    fig.show()"
   ]
  },
  {
   "cell_type": "markdown",
   "metadata": {},
   "source": [
    "# heart <a class=\"anchor\" id=\"heart\"></a>"
   ]
  },
  {
   "cell_type": "code",
   "execution_count": null,
   "metadata": {
    "pycharm": {
     "is_executing": true,
     "name": "#%%\n"
    }
   },
   "outputs": [],
   "source": [
    "restore_collector = \"\"  # \"data/collector20-04-09_15-32-54.collector\"\n",
    "if restore_collector:\n",
    "    with Path(restore_collector).open(\"rb\") as f:\n",
    "        collector = pickle.load(f)\n",
    "else:\n",
    "    collector = Collector(\"fish/**/*.yml\", path=Path(\"/g/kreshuk/beuttenm/repos/llnet/logs\"))\n",
    "    print(collector.valid_names())\n",
    "    collector.get_all()\n",
    "    with Path(f\"data/collector{datetime.now().strftime('%y-%m-%d_%H-%M-%S')}.collector\").open(\"wb\") as f:\n",
    "        pickle.dump(collector, f)\n",
    "    \n",
    "collector.data.head()"
   ]
  },
  {
   "cell_type": "code",
   "execution_count": null,
   "metadata": {},
   "outputs": [],
   "source": [
    "collector.data.tail()"
   ]
  },
  {
   "cell_type": "code",
   "execution_count": null,
   "metadata": {
    "pycharm": {
     "is_executing": false,
     "name": "#%%\n"
    }
   },
   "outputs": [],
   "source": [
    "filtered_data = collector.data.copy()\n",
    "filtered_data = filtered_data[filtered_data[\"#parameters\"].notnull()]\n",
    "filtered_data = filtered_data[filtered_data[\"test bead-precision\"].notnull()]\n",
    "# filtered_data = filtered_data.loc[[\"fdyn1\" in n for n in filtered_data[\"config name\"]]]\n",
    "# filtered_data = filtered_data.loc[[scale == 4 for scale in filtered_data[\"output scale\"]]]\n",
    "\n",
    "# derived columns:\n",
    "filtered_data.insert(0, \"model type\", list(map(lambda mn: mn[0], filtered_data[\"model name\"])))\n",
    "\n",
    "filtered_data.head()"
   ]
  },
  {
   "cell_type": "code",
   "execution_count": null,
   "metadata": {
    "pycharm": {
     "is_executing": false,
     "name": "#%%\n"
    }
   },
   "outputs": [],
   "source": [
    "filtered_data.tail()"
   ]
  },
  {
   "cell_type": "code",
   "execution_count": null,
   "metadata": {
    "pycharm": {
     "is_executing": false,
     "name": "#%%\n"
    },
    "scrolled": false
   },
   "outputs": [],
   "source": [
    "filtered_data[\"output scale\"] = filtered_data[\"output scale\"].astype(int)\n",
    "# filtered_data[\"output scale\"] = filtered_data[\"output scale\"].astype(str)\n",
    "\n",
    "for test_metric in [\"test bead-precision\", \"test bead-recall\", \"test ssim\", \"test nrmse\", \"test psnr\"]:\n",
    "    fig = plotly.express.scatter(\n",
    "        filtered_data, \n",
    "        x=\"test ms-ssim\", \n",
    "        y=test_metric, \n",
    "        size=\"output scale\", \n",
    "        hover_data=[\"start time\", \"setup name\", \"test psnr\", \"test ms-ssim\", \"test step count\", \"model name\"],\n",
    "        color=\"model name\",\n",
    "        width=1000, height=800,\n",
    "        facet_row=\"z_out\", \n",
    "        facet_col=\"output scale\",\n",
    "        category_orders={\"output scale\": [1, 2, 4, 8], \"z_out\": [49, 79]},\n",
    "        title=test_metric,\n",
    "    )\n",
    "    fig.show()"
   ]
  },
  {
   "cell_type": "code",
   "execution_count": null,
   "metadata": {
    "pycharm": {
     "is_executing": false,
     "name": "#%%\n"
    }
   },
   "outputs": [],
   "source": []
  }
 ],
 "metadata": {
  "kernelspec": {
   "display_name": "Python 3",
   "language": "python",
   "name": "python3"
  },
  "language_info": {
   "codemirror_mode": {
    "name": "ipython",
    "version": 3
   },
   "file_extension": ".py",
   "mimetype": "text/x-python",
   "name": "python",
   "nbconvert_exporter": "python",
   "pygments_lexer": "ipython3",
   "version": "3.7.6"
  },
  "pycharm": {
   "stem_cell": {
    "cell_type": "raw",
    "metadata": {
     "collapsed": false
    },
    "source": []
   }
  }
 },
 "nbformat": 4,
 "nbformat_minor": 1
}
