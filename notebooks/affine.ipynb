{
 "cells": [
  {
   "cell_type": "code",
   "execution_count": null,
   "outputs": [],
   "source": [
    "%load_ext autoreload\n",
    "%autoreload 2\n",
    "# %matplotlib inline \n",
    "# %matplotlib qt \n",
    "import torch.nn.functional\n",
    "import numpy\n",
    "import skimage.data\n",
    "import matplotlib.pyplot as plt\n",
    "\n",
    "import scipy.ndimage\n",
    "\n",
    "from itertools import permutations"
   ],
   "metadata": {
    "collapsed": false,
    "pycharm": {
     "name": "#%%\n",
     "is_executing": false
    }
   }
  },
  {
   "cell_type": "code",
   "execution_count": null,
   "outputs": [],
   "source": [
    "# def param2theta2d(param, img_shape):\n",
    "#     w, h = img_shape[0], img_shape[1]\n",
    "#     print(\"w\", \"h\", w, h)\n",
    "#     # w, h = scipy_shape[0], scipy_shape[1]\n",
    "#     theta = numpy.zeros((3, 3))\n",
    "#     theta[2, 2] = 1\n",
    "#     # wolfram alpha input: {{2/w, 0, -1}, {0, 2/h, -1}, {0, 0, 1}} * {{a, b, c}, {d, e, f}, {0, 0, 1}} * {{2/w, 0, -1}, {0, 2/h, -1}, {0, 0, 1}}^-1\n",
    "#     theta[0, 0] = param[0, 0]\n",
    "#     theta[0, 1] = param[0, 1] * h / w\n",
    "#     theta[0, 2] = param[0, 2] * 2 / w + theta[0, 0] + theta[0, 1] - 1\n",
    "#     theta[1, 0] = param[1, 0] * w / h\n",
    "#     theta[1, 1] = param[1, 1]\n",
    "#     theta[1, 2] = param[1, 2] * 2 / h + theta[1, 0] + theta[1, 1] - 1\n",
    "#     # return torch.from_numpy(theta[None, ...])\n",
    "#     return theta\n",
    "\n",
    "# def param2theta3d(scipy_form, scipy_shape):\n",
    "#     scipy_form = scipy_form.T\n",
    "#     t, w, h = scipy_shape[0], scipy_shape[2], scipy_shape[1]\n",
    "#     t, w, h = scipy_shape[0], scipy_shape[2], scipy_shape[1]\n",
    "#     # extended 2d case with depth as 't' and additional parameters klmnop\n",
    "#     # wolfram alpha input: {{2/w, 0, 0, -1}, {0, 2/h, 0, -1}, {0, 0, 2/t, -1}, {0, 0, 0, 1}} * {{a, b, k, c}, {d, e, l, f}, {m, n, o, p}, {0, 0, 0, 1}} * {{2/w, 0, 0, -1}, {0, 2/h, 0, -1},{0, 0, 2/t, -1}, {0, 0, 0, 1}}^-1\n",
    "#     a = scipy_form[0, 0]\n",
    "#     b = scipy_form[0, 1]\n",
    "#     k = scipy_form[0, 2]  # 3d\n",
    "#     c = scipy_form[0, 3]\n",
    "#     d = scipy_form[1, 0]\n",
    "#     e = scipy_form[1, 1]\n",
    "#     l = scipy_form[1, 2]  # 3d\n",
    "#     f = scipy_form[1, 3]\n",
    "# \n",
    "#     m = scipy_form[2, 0]  # 3d\n",
    "#     n = scipy_form[2, 1]  # 3d\n",
    "#     o = scipy_form[2, 2]  # 3d\n",
    "#     p = scipy_form[2, 3]  # 3d\n",
    "# \n",
    "#     theta = numpy.array(\n",
    "#         [\n",
    "#             [a, b * h / w, k * t / w, a + 2 * c / w + b * h / w + k * t / w - 1],\n",
    "#             [d * w / h, e, l * t / h, e + l * t / h + d * w / h + 2 * f / h - 1],\n",
    "#             [m * w / t, h * n / t, o, h * n / t + o + m * w / t + 2 * p / t - 1],\n",
    "#             # [0, 0, 0, 1],\n",
    "#         ]\n",
    "#     )\n",
    "#     return torch.from_numpy(theta[None, ...])"
   ],
   "metadata": {
    "collapsed": false,
    "pycharm": {
     "name": "#%%\n",
     "is_executing": false
    }
   }
  },
  {
   "cell_type": "code",
   "execution_count": null,
   "outputs": [],
   "source": [
    "img = skimage.data.coins()[50:125, 50:150]\n",
    "print(\"img\", img.shape)\n",
    "# plt.imshow(img)\n",
    "# plt.title(\"input\")\n",
    "# plt.show()\n",
    "\n",
    "trf = numpy.eye(3)\n",
    "trf[0, 2] = 20\n",
    "trf[1, 2] = 15\n",
    "\n",
    "# trf[0, 2] = 151\n",
    "# trf[1, 2] = img.shape[1]\n",
    "\n",
    "trf[1, 0] = 0.2\n",
    "trf[0, 1] = 0.3\n",
    "\n",
    "print('trf', trf)\n",
    "# print(\"input\", img.shape)\n",
    "output_shape = [s // 2 for s in img.shape]\n",
    "scaling = [si / so for si, so in zip(img.shape, output_shape)] + [1.]\n",
    "print(\"scaling\", scaling)\n",
    "inv_trf = numpy.linalg.inv(trf)\n",
    "scipy_form = numpy.array(inv_trf)\n",
    "\n",
    "# scipy_img = numpy.stack([scipy.ndimage.affine_transform(img[..., i], trf) for i in range(3)], axis=2)\n",
    "print(\"scipy_form\\n\", scipy_form)\n",
    "scipy_img = scipy.ndimage.affine_transform(img, scipy_form, output_shape=output_shape, order=0)\n",
    "# print(\"scipy\", scipy_img.shape)\n",
    "plt.imshow(scipy_img)\n",
    "plt.title(\"scipy\")\n",
    "plt.xlabel(\"x\")\n",
    "plt.show()\n",
    "\n",
    "# S = numpy.diag(scaling) \n",
    "# trf = S.dot(trf)\n",
    "# # trf[0, 0] *= scaling[0]\n",
    "# # trf[1, 1] *= scaling[1]\n",
    "# inv_trf = numpy.linalg.inv(trf)\n",
    "# scipy_form = numpy.array(inv_trf)\n",
    "# \n",
    "# # scipy_form[0, 0] /= scaling[0]\n",
    "# scipy_form[1, 1] /= scaling[1]\n"
   ],
   "metadata": {
    "collapsed": false,
    "pycharm": {
     "name": "#%%\n"
    }
   }
  },
  {
   "cell_type": "code",
   "execution_count": null,
   "outputs": [],
   "source": [
    "def inv_scipy_form2torch_form_2d(inv_scipy_form, ipt_shape, out_shape):\n",
    "    assert all(zero == 0 for zero in inv_scipy_form[2, :2])\n",
    "    assert inv_scipy_form[2, 2] == 1\n",
    "    assert len(ipt_shape) == len(out_shape) == 2\n",
    "    scaling = [si / so for si, so in zip(ipt_shape, out_shape)] + [1.]\n",
    "    scaled_scipy = numpy.linalg.inv(numpy.diag(scaling).dot(inv_scipy_form))\n",
    "    \n",
    "    transposed_scipy = numpy.eye(3, dtype=scaled_scipy.dtype)\n",
    "    transposed_scipy[:2, :2] = scaled_scipy[:2, :2].T\n",
    "    offset = scaled_scipy[:2, 2][::-1]\n",
    "    transposed_scipy[:2, 2] = offset\n",
    "\n",
    "    h, w = ipt_shape\n",
    "\n",
    "    theta = numpy.zeros((2, 3))\n",
    "    # wolfram alpha input: {{2/w, 0, -1}, {0, 2/h, -1}, {0, 0, 1}} * {{a, b, c}, {d, e, f}, {0, 0, 1}} * {{2/w, 0, -1}, {0, 2/h, -1}, {0, 0, 1}}^-1\n",
    "    theta[0, 0] = transposed_scipy[0, 0]\n",
    "    theta[0, 1] = transposed_scipy[0, 1] * h / w\n",
    "    theta[0, 2] = transposed_scipy[0, 2] * 2 / w + theta[0, 0] + theta[0, 1] - 1\n",
    "    theta[1, 0] = transposed_scipy[1, 0] * w / h\n",
    "    theta[1, 1] = transposed_scipy[1, 1]\n",
    "    theta[1, 2] = transposed_scipy[1, 2] * 2 / h + theta[1, 0] + theta[1, 1] - 1\n",
    "    return torch.from_numpy(theta[None, ...])\n",
    "\n",
    "torch_form = inv_scipy_form2torch_form_2d(trf, img.shape, output_shape)\n",
    "print(\"torch_form\\n\", torch_form)\n",
    "\n",
    "img_nchw = img[None, None, ...].astype(\"float\")\n",
    "print(\"nchw\", img_nchw.shape)\n",
    "affine_grid = torch.nn.functional.affine_grid(theta=torch_form, size=[1, 1] + output_shape, align_corners=False)\n",
    "print(\"ag\", affine_grid.shape)\n",
    "# affine_grid[..., 0] -= .1967\n",
    "# affine_grid[..., 1] += .0033\n",
    "maxs = affine_grid[..., 0].max(), affine_grid[..., 1].max()\n",
    "# offsets = \n",
    "print(\"maxs\", maxs)\n",
    "print(\"offsets\", [1.0 - ma for ma in maxs])\n",
    "print('affine_grid', affine_grid.shape, affine_grid.max())\n",
    "torch_img = torch.nn.functional.grid_sample(torch.from_numpy(img_nchw), affine_grid, align_corners=False, mode=\"nearest\")\n",
    "print(\"torch\", torch_img.shape, torch_img.max())\n",
    "plt.imshow(torch_img[0, 0])\n",
    "plt.title(\"torch\")\n",
    "plt.xlabel(\"x\")\n",
    "plt.show()\n",
    "diff = scipy_img-torch_img[0, 0].numpy()\n",
    "print(numpy.abs(diff.sum()))\n",
    "plt.imshow(diff)\n",
    "plt.title(\"diff\")\n",
    "plt.colorbar()\n",
    "plt.show()"
   ],
   "metadata": {
    "collapsed": false,
    "pycharm": {
     "name": "#%%\n",
     "is_executing": false
    }
   }
  },
  {
   "cell_type": "code",
   "execution_count": null,
   "outputs": [],
   "source": [],
   "metadata": {
    "collapsed": false,
    "pycharm": {
     "name": "#%%\n",
     "is_executing": false
    }
   }
  },
  {
   "cell_type": "code",
   "execution_count": null,
   "outputs": [],
   "source": [
    "    \n",
    "    # transposed_scipy[:3, :3] = scipy_form[:3, :3]\n",
    "    \n",
    "    # transposed_scipy[1:3, 1:3] = scipy_form[1:3, 1:3].T\n",
    "    # transposed_scipy[0, 0] = scipy_form[0, 0]\n",
    "    # transposed_scipy[0, 1] = scipy_form[0, 2]\n",
    "    # transposed_scipy[0, 2] = scipy_form[0, 1]\n",
    "    # transposed_scipy[1, 0] = scipy_form[2, 0]\n",
    "    # transposed_scipy[2, 0] = scipy_form[1, 0]\n",
    "    \n",
    "    # transposed_scipy[:2, :2] = scipy_form[1:3, 1:3].T\n",
    "    # transposed_scipy[2, 2] = scipy_form[2, 3]\n",
    "    # transposed_scipy[2, 3] = scipy_form[2, 2]\n",
    "    # transposed_scipy[2, 2] = scipy_form[3, 2]\n",
    "    # transposed_scipy[3, 2] = scipy_form[2, 2]\n",
    "    # transposed_scipy[2, 2] = scipy_form[2, 2]\n",
    "    \n",
    "\n",
    "    # offset = scipy_form[0, 3], scipy_form[1, 3], scipy_form[2, 3]\n",
    "    # offset = scipy_form[0, 3], scipy_form[2, 3], scipy_form[1, 3]\n",
    "    # offset = scipy_form[1, 3], scipy_form[0, 3], scipy_form[2, 3]\n",
    "\n",
    "    # transposed_scipy[:3, 3] = offset"
   ],
   "metadata": {
    "collapsed": false,
    "pycharm": {
     "name": "#%%\n",
     "is_executing": false
    }
   }
  },
  {
   "cell_type": "markdown",
   "source": [
    "## 3D"
   ],
   "metadata": {
    "collapsed": false,
    "pycharm": {
     "name": "#%% md\n"
    }
   }
  },
  {
   "cell_type": "code",
   "execution_count": null,
   "outputs": [],
   "source": [
    "img = numpy.stack([skimage.data.coins()] * 20, axis=2)\n",
    "print(\"img\", img.shape)\n",
    "# plt.imshow(img[0])\n",
    "# plt.title(\"input\")\n",
    "# plt.show()\n",
    "\n",
    "trf = numpy.eye(4)\n",
    "# trf[0, 0] = 1.15\n",
    "# trf[0, 1] = .3\n",
    "# trf[0, 2] = 0.5\n",
    "# trf[0, 3] = 20\n",
    "# trf[1, 0] = 0.3\n",
    "# trf[1, 1] = 1.1\n",
    "trf[1, 2] = 0.13\n",
    "trf[1, 3] = 0.06\n",
    "trf[2, 0] = 0.03\n",
    "trf[2, 1] = 0.04\n",
    "trf[2, 2] = 1.1\n",
    "trf[2, 3] = -20\n",
    "\n",
    "# print(\"input\", img.shape)\n",
    "output_shape = [s for s in img.shape]\n",
    "\n",
    "# scipy_form = numpy.linalg.inv(trf)\n",
    "scipy_form = numpy.array(trf)\n",
    "\n",
    "# scipy_img = numpy.stack([scipy.ndimage.affine_transform(img[..., i], trf) for i in range(3)], axis=2)\n",
    "print(\"scipy_form\\n\", scipy_form)\n",
    "scipy_img = scipy.ndimage.affine_transform(img, scipy_form, output_shape=output_shape, order=0)\n",
    "fig, ax = plt.subplots(nrows=1, ncols=3, figsize=(8, 4), squeeze=False)\n",
    "ax[0, 0].imshow(scipy_img[150], vmin=0, vmax=255)\n",
    "ax[0, 0].set_title(\"scipy\")\n",
    "ax[0, 1].imshow(scipy_img[:, 150], vmin=0, vmax=255)\n",
    "ax[0, 1].set_title(\"scipy\")\n",
    "ax[0, 2].imshow(scipy_img[:, :,  10], vmin=0, vmax=255)\n",
    "ax[0, 2].set_title(\"scipy\")\n",
    "plt.show()"
   ],
   "metadata": {
    "collapsed": false,
    "pycharm": {
     "name": "#%%\n",
     "is_executing": false
    }
   }
  },
  {
   "cell_type": "code",
   "execution_count": null,
   "outputs": [],
   "source": [
    "def scipy_form2torch_form_3d(scipy_form, img_shape):\n",
    "    transposed_scipy = numpy.eye(4, dtype=scipy_form.dtype)\n",
    "    map_pos = {\n",
    "        (0, 0): (2, 2),\n",
    "        (0, 1): (2, 1),\n",
    "        (0, 2): (2, 0),\n",
    "        (0, 3): (2, 3),\n",
    "        (1, 0): (1, 2),\n",
    "        (1, 1): (1, 1),\n",
    "        (1, 2): (1, 0),\n",
    "        (1, 3): (1, 3),\n",
    "        (2, 0): (0, 2),\n",
    "        (2, 1): (0, 1),\n",
    "        (2, 2): (0, 0),\n",
    "        (2, 3): (0, 3),\n",
    "    }\n",
    "    for spos, tpos in map_pos.items():\n",
    "        transposed_scipy[tpos] = scipy_form[spos]\n",
    "    \n",
    "    t, h, w = img_shape\n",
    "\n",
    "    # extended 2d case with depth as 't' and additional parameters klmnop\n",
    "    # wolfram alpha input: {{2/w, 0, 0, -1}, {0, 2/h, 0, -1}, {0, 0, 2/t, -1}, {0, 0, 0, 1}} * {{a, b, k, c}, {d, e, l, f}, {m, n, o, p}, {0, 0, 0, 1}} * {{2/w, 0, 0, -1}, {0, 2/h, 0, -1},{0, 0, 2/t, -1}, {0, 0, 0, 1}}^-1\n",
    "    a = transposed_scipy[0, 0]\n",
    "    b = transposed_scipy[0, 1]\n",
    "    k = transposed_scipy[0, 2]  # 3d\n",
    "    c = transposed_scipy[0, 3]\n",
    "    d = transposed_scipy[1, 0]\n",
    "    e = transposed_scipy[1, 1]\n",
    "    l = transposed_scipy[1, 2]  # 3d\n",
    "    f = transposed_scipy[1, 3]\n",
    "\n",
    "    m = transposed_scipy[2, 0]  # 3d\n",
    "    n = transposed_scipy[2, 1]  # 3d\n",
    "    o = transposed_scipy[2, 2]  # 3d\n",
    "    p = transposed_scipy[2, 3]  # 3d\n",
    "\n",
    "    theta = numpy.array(\n",
    "        [\n",
    "            [a, b * h / w, k * t / w, a + 2 * c / w + b * h / w + k * t / w - 1],\n",
    "            [d * w / h, e, l * t / h, e + l * t / h + d * w / h + 2 * f / h - 1],\n",
    "            [m * w / t, h * n / t, o, h * n / t + o + m * w / t + 2 * p / t - 1],\n",
    "            # [0, 0, 0, 1],\n",
    "        ]\n",
    "    )\n",
    "    return torch.from_numpy(theta[None, ...])\n",
    "\n",
    "affine_grid = torch.nn.functional.affine_grid(theta=scipy_form2torch_form_3d(numpy.array(scipy_form), img.shape), size=[1, 1] + output_shape, align_corners=False)\n",
    "img_ncdhw = img.astype(\"float\")[None, None]\n",
    "torch_img = torch.nn.functional.grid_sample(torch.from_numpy(img_ncdhw), affine_grid, align_corners=False, mode=\"bilinear\")\n",
    "\n",
    "diff = numpy.abs(scipy_img - torch_img[0, 0].numpy())\n",
    "diff_sum = diff.sum()\n",
    "print(\"diff\", int(diff_sum))\n",
    "fig, ax = plt.subplots(nrows=2, ncols=3, figsize=(8, 8))\n",
    "ax[1 - 1, 0].imshow(torch_img[0, 0, 150], vmin=0, vmax=255)\n",
    "ax[1 - 1, 0].set_title(\"torch\")\n",
    "ax[1 - 1, 1].imshow(torch_img[0, 0, :, 150], vmin=0, vmax=255)\n",
    "ax[1 - 1, 1].set_title(\"torch\")\n",
    "ax[1 - 1, 2].imshow(torch_img[0, 0, :, :,  10], vmin=0, vmax=255)\n",
    "ax[1 - 1, 2].set_title(\"torch\")\n",
    "ax[2 - 1, 0].imshow(diff[150], vmin=0, vmax=255)\n",
    "ax[2 - 1, 0].set_title(\"diff\")\n",
    "ax[2 - 1, 1].imshow(diff[:, 150], vmin=0, vmax=255)\n",
    "ax[2 - 1, 1].set_title(\"diff\")\n",
    "ax[2 - 1, 2].imshow(diff[:, :, 10], vmin=0, vmax=255)\n",
    "ax[2 - 1, 2].set_title(\"diff\")\n",
    "plt.show()\n",
    "\n",
    "print('done')"
   ],
   "metadata": {
    "collapsed": false,
    "pycharm": {
     "name": "#%%\n",
     "is_executing": false
    }
   }
  },
  {
   "cell_type": "code",
   "execution_count": null,
   "outputs": [],
   "source": [],
   "metadata": {
    "collapsed": false,
    "pycharm": {
     "name": "#%%\n",
     "is_executing": false
    }
   }
  },
  {
   "cell_type": "code",
   "execution_count": null,
   "outputs": [],
   "source": [
    "print(\"la\")"
   ],
   "metadata": {
    "collapsed": false,
    "pycharm": {
     "name": "#%%\n",
     "is_executing": false
    }
   }
  },
  {
   "cell_type": "code",
   "execution_count": null,
   "outputs": [],
   "source": [],
   "metadata": {
    "collapsed": false,
    "pycharm": {
     "name": "#%%\n"
    }
   }
  },
  {
   "cell_type": "code",
   "execution_count": null,
   "outputs": [],
   "source": [
    "print(affine_grid[0, ..., 0].max())\n",
    "plt.imshow(affine_grid[0, ..., 0])\n",
    "plt.colorbar()"
   ],
   "metadata": {
    "collapsed": false,
    "pycharm": {
     "name": "#%%\n",
     "is_executing": false
    }
   }
  },
  {
   "cell_type": "code",
   "execution_count": null,
   "outputs": [],
   "source": [
    "print(affine_grid[0, ..., 1].max())\n",
    "plt.imshow(affine_grid[0, ..., 1])\n",
    "plt.colorbar()\n",
    "\n"
   ],
   "metadata": {
    "collapsed": false,
    "pycharm": {
     "name": "#%%\n",
     "is_executing": false
    }
   }
  },
  {
   "cell_type": "code",
   "execution_count": null,
   "outputs": [],
   "source": [
    "print(n23_form)\n",
    "\n",
    "\n",
    "\n"
   ],
   "metadata": {
    "collapsed": false,
    "pycharm": {
     "name": "#%%\n",
     "is_executing": false
    }
   }
  },
  {
   "cell_type": "code",
   "execution_count": null,
   "outputs": [],
   "source": [
    "\n",
    "# # torch_form = numpy.array([[\n",
    "# #     [ 1.0, -0.5, 0.0], \n",
    "# #     [ 0.0,  1.0, 0.0]\n",
    "# # print(\"trf\\n\", trf)\n",
    "# # print(\"inv trf\\n\", inv_trf)\n",
    "# torch_trf = numpy.array(trf)\n",
    "# # torch_offset = [0.8317-1.0, 0.19609999999999994]\n",
    "# # torch_offset = [0.1961, -0.0033]\n",
    "# # torch_offset = [+0.1967, -0.0033]\n",
    "# torch_trf[0, 2] = trf[0, 2] / img.shape[0]\n",
    "# torch_trf[1, 2] = trf[1, 2] / img.shape[1]\n",
    "# \n",
    "# torch_inv_trf = numpy.linalg.inv(torch_trf)\n",
    "# torch_offset = numpy.eye(3)\n",
    "# # torch_offset[0, 2] = .2\n",
    "# torch_offset[1, 2] = -0.2\n",
    "# # torch_inv_trf = torch_offset.dot(torch_inv_trf)\n",
    "# torch_inv_trf = torch_inv_trf.dot(torch_offset)\n",
    "# \n",
    "# torch_form = numpy.zeros((2, 3))\n",
    "# torch_form[:2, :2] = torch_inv_trf[:2, :2].T\n",
    "# torch_form[:2, 2] = torch_inv_trf[:2, 2][::-1]\n",
    "# torch_form[0, 2] += torch_offset[0]\n",
    "# torch_form[1, 2] += torch_offset[1]\n",
    "# torch_form[:2, 2] = [torch_inv_trf[i, 2] / img.shape[i] for i in range(2)][::-1]\n",
    "# torch_form[:2, 2] = [torch_inv_trf[i, 2] / img.shape[i] for i in range(2)][::-1]\n",
    "# torch_form[0, 2] += -0.5\n",
    "# torch_form[1, 2] += -0.5\n",
    "# torch_form = numpy.concatenate([torch_inv_trf[:2, :2].T, inv_trf[:2, 2:3][::-1]], axis=1)"
   ],
   "metadata": {
    "collapsed": false,
    "pycharm": {
     "name": "#%%\n"
    }
   }
  }
 ],
 "metadata": {
  "kernelspec": {
   "display_name": "Python 3",
   "language": "python",
   "name": "python3"
  },
  "language_info": {
   "codemirror_mode": {
    "name": "ipython",
    "version": 2
   },
   "file_extension": ".py",
   "mimetype": "text/x-python",
   "name": "python",
   "nbconvert_exporter": "python",
   "pygments_lexer": "ipython2",
   "version": "2.7.6"
  },
  "pycharm": {
   "stem_cell": {
    "cell_type": "raw",
    "source": [],
    "metadata": {
     "collapsed": false
    }
   }
  }
 },
 "nbformat": 4,
 "nbformat_minor": 0
}