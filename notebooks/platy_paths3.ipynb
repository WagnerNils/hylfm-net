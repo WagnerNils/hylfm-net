{
 "cells": [
  {
   "cell_type": "code",
   "execution_count": null,
   "metadata": {
    "pycharm": {
     "is_executing": false
    }
   },
   "outputs": [],
   "source": [
    "import numpy\n",
    "import matplotlib\n",
    "import matplotlib.pyplot as plt\n",
    "\n",
    "import sys\n",
    "sys.path.append(\"/repos/lnet\")\n",
    "from lnet.utils.plotting import turbo_colormap "
   ]
  },
  {
   "cell_type": "code",
   "execution_count": null,
   "metadata": {
    "pycharm": {
     "is_executing": false,
     "name": "#%%\n"
    }
   },
   "outputs": [],
   "source": [
    "matplotlib.matplotlib_fname()"
   ]
  },
  {
   "cell_type": "code",
   "execution_count": null,
   "metadata": {
    "pycharm": {
     "is_executing": false,
     "name": "#%%\n"
    }
   },
   "outputs": [],
   "source": [
    "# Save Data\n",
    "pred_binned = numpy.load(\"K:/beuttenm/repos/lnet/notebooks/pred_binned.npy\")\n",
    "tgt_binned = numpy.load(\"K:/beuttenm/repos/lnet/notebooks/tgt_binned.npy\")\n",
    "prs = numpy.load(\"K:/beuttenm/repos/lnet/notebooks/prs.npy\")\n"
   ]
  },
  {
   "cell_type": "code",
   "execution_count": null,
   "metadata": {
    "pycharm": {
     "is_executing": false,
     "name": "#%%\n"
    },
    "scrolled": true
   },
   "outputs": [],
   "source": [
    "plt.imshow(pred_binned[0].max(0), cmap=turbo_colormap)\n",
    "plt.savefig(\"test.ps\")"
   ]
  },
  {
   "cell_type": "code",
   "execution_count": null,
   "metadata": {
    "pycharm": {
     "is_executing": false,
     "name": "#%%\n"
    }
   },
   "outputs": [],
   "source": [
    "plt.imshow(tgt_binned[0].max(0), cmap=turbo_colormap)"
   ]
  },
  {
   "cell_type": "code",
   "execution_count": null,
   "metadata": {
    "pycharm": {
     "is_executing": false,
     "name": "#%%\n"
    }
   },
   "outputs": [],
   "source": [
    "plt.imshow(prs[13], cmap=turbo_colormap)\n",
    "plt.colorbar()\n",
    "print('pr max', prs.max())"
   ]
  },
  {
   "cell_type": "code",
   "execution_count": null,
   "metadata": {
    "pycharm": {
     "is_executing": false,
     "name": "#%%\n"
    }
   },
   "outputs": [],
   "source": [
    "stds = tgt_binned.std(axis=0)\n",
    "stds.shape"
   ]
  },
  {
   "cell_type": "code",
   "execution_count": null,
   "metadata": {
    "pycharm": {
     "is_executing": false
    }
   },
   "outputs": [],
   "source": [
    "print('max', stds.max())\n",
    "print('mean', stds.mean())\n",
    "print('med', numpy.median(stds))\n",
    "print('p80', numpy.percentile(stds, 80))"
   ]
  },
  {
   "cell_type": "code",
   "execution_count": null,
   "metadata": {
    "pycharm": {
     "is_executing": false,
     "name": "#%%\n"
    }
   },
   "outputs": [],
   "source": [
    "mask = stds > numpy.percentile(stds, 80)\n",
    "masked_prs = numpy.array(prs)\n",
    "masked_prs[~mask] = numpy.nan\n",
    "print('mean masked pr', numpy.nanmean(masked_prs))\n",
    "plt.imshow(mask.max(axis=0))"
   ]
  },
  {
   "cell_type": "code",
   "execution_count": null,
   "metadata": {
    "pycharm": {
     "is_executing": false,
     "name": "#%%\n"
    }
   },
   "outputs": [],
   "source": [
    "msum = mask.sum()\n",
    "print(msum, msum / numpy.prod(mask.shape))"
   ]
  },
  {
   "cell_type": "code",
   "execution_count": null,
   "metadata": {
    "pycharm": {
     "is_executing": false,
     "name": "#%%\n"
    }
   },
   "outputs": [],
   "source": [
    "def plot_masked(data, mask):\n",
    "    data = numpy.array(data)\n",
    "    data[~mask] = numpy.nan\n",
    "    plt.imshow(numpy.nanmax(data, axis=0))\n",
    "    plt.colorbar()"
   ]
  },
  {
   "cell_type": "code",
   "execution_count": null,
   "metadata": {
    "pycharm": {
     "is_executing": false,
     "name": "#%%\n"
    }
   },
   "outputs": [],
   "source": [
    "plot_masked(tgt_binned[0], mask)"
   ]
  },
  {
   "cell_type": "code",
   "execution_count": null,
   "metadata": {
    "pycharm": {
     "is_executing": false,
     "name": "#%%\n"
    }
   },
   "outputs": [],
   "source": [
    "plot_masked(prs, mask)"
   ]
  },
  {
   "cell_type": "code",
   "execution_count": null,
   "metadata": {
    "pycharm": {
     "is_executing": false,
     "name": "#%%\n"
    }
   },
   "outputs": [],
   "source": [
    "def plot_ts(tgt, pred, name=\"\"):\n",
    "    fig, ax_tgt = plt.subplots()\n",
    "    ax_pred = ax_tgt.twinx()\n",
    "    ax_tgt.set_xlabel(\"time [s]\")\n",
    "    ax_tgt.set_ylabel(\"RL reconstruction [$\\Delta F/F_0$]\")\n",
    "    ax_pred.set_ylabel(\"Network prediction [$\\Delta F/F_0$]\")\n",
    "    \n",
    "    t = numpy.arange(tgt.shape[0]) * 0.11\n",
    "    tgt = numpy.array(tgt)\n",
    "    pred = numpy.array(pred)\n",
    "    add_label = \"\"\n",
    "    lns = ax_tgt.plot(t, tgt, color=\"r\", label=\"RL reconstruction\" + add_label)\n",
    "    lns += ax_pred.plot(t, pred, color=\"b\", label=\"Network prediction\" + add_label) # + f\" {pcoeff:.2f}\n",
    "\n",
    "    labs = [l.get_label() for l in lns]\n",
    "    ax_tgt.legend(lns, labs)\n",
    "    if name:\n",
    "        plt.savefig(f\"/repos/lnet/notebooks/{name}.pgf\")\n",
    "    \n",
    "    plt.show()\n",
    "    \n",
    "    \n",
    "def plot_idx(idx, name=\"\"):\n",
    "    t_max = None\n",
    "    plot_ts(tgt_binned[:, mask][:t_max, idx], pred_binned[:, mask][:t_max, idx], name=name)"
   ]
  },
  {
   "cell_type": "code",
   "execution_count": null,
   "metadata": {
    "pycharm": {
     "is_executing": false
    }
   },
   "outputs": [],
   "source": [
    "# prsidx = numpy.where(prs[mask])[0]\n",
    "numpy.argsort(prs[mask])\n",
    "idxs = numpy.argsort(prs[mask])[::-1]"
   ]
  },
  {
   "cell_type": "code",
   "execution_count": null,
   "metadata": {
    "pycharm": {
     "is_executing": false
    }
   },
   "outputs": [],
   "source": [
    "plot_idx(idxs[0], \"test\")\n",
    "idxs[-1]"
   ]
  },
  {
   "cell_type": "code",
   "execution_count": null,
   "metadata": {
    "pycharm": {
     "is_executing": false,
     "name": "#%%\n"
    },
    "scrolled": true
   },
   "outputs": [],
   "source": [
    "for idx in range(0, 1000, 100):\n",
    "    plot_ts(tgt_binned[:, mask][:, idx], pred_binned[:, mask][:, idx])"
   ]
  },
  {
   "cell_type": "code",
   "execution_count": null,
   "metadata": {
    "pycharm": {
     "is_executing": false,
     "name": "#%%\n"
    },
    "scrolled": true
   },
   "outputs": [],
   "source": [
    "for idx in range(1, 1000, 100):\n",
    "    plot_ts(tgt_binned[:, mask][:, idx], pred_binned[:, mask][:, idx])"
   ]
  },
  {
   "cell_type": "code",
   "execution_count": null,
   "metadata": {
    "pycharm": {
     "is_executing": false,
     "name": "#%%\n"
    },
    "scrolled": true
   },
   "outputs": [],
   "source": [
    "for idx in range(2, 1000, 100):\n",
    "    plot_ts(tgt_binned[:, mask][:, idx], pred_binned[:, mask][:, idx])"
   ]
  },
  {
   "cell_type": "code",
   "execution_count": null,
   "metadata": {
    "pycharm": {
     "is_executing": false,
     "name": "#%%\n"
    },
    "scrolled": true
   },
   "outputs": [],
   "source": [
    "t_max = 300\n",
    "cnt = 0\n",
    "for idx in range(0, 1000, 10):\n",
    "    selected_tgt = tgt_binned[:t_max, mask][:, idx]\n",
    "    selected_pred = pred_binned[:t_max, mask][:, idx]\n",
    "    \n",
    "    if selected_tgt[100] < .2:\n",
    "        continue\n",
    "\n",
    "    cnt += 1\n",
    "    if cnt > 10: \n",
    "        break\n",
    "    plot_ts(selected_tgt, selected_pred)"
   ]
  },
  {
   "cell_type": "code",
   "execution_count": null,
   "metadata": {
    "scrolled": true
   },
   "outputs": [],
   "source": [
    "t_max = 400\n",
    "cnt = 0\n",
    "for idx in range(0, 1000, 10):\n",
    "    selected_tgt = tgt_binned[:t_max, mask][:, idx]\n",
    "    selected_pred = pred_binned[:t_max, mask][:, idx]\n",
    "    \n",
    "    if selected_tgt[100] < .2:\n",
    "        continue\n",
    "\n",
    "    cnt += 1\n",
    "    if cnt > 10: \n",
    "        break\n",
    "    plot_ts(selected_tgt, selected_pred)"
   ]
  },
  {
   "cell_type": "code",
   "execution_count": null,
   "metadata": {
    "pycharm": {
     "is_executing": false,
     "name": "#%%\n"
    }
   },
   "outputs": [],
   "source": [
    "def plot_hist(prs):\n",
    "    fig, ax = plt.subplots()\n",
    "    ax.yaxis.tick_right()\n",
    "    ax.yaxis.set_label_position(\"right\")\n",
    "    ax.set_xlim(xmin=0)\n",
    "    ax.set_xlabel(\"Pearson Correlation Coefficient\")\n",
    "    ax.set_ylabel(\"counts\")\n",
    "\n",
    "    plt.hist(prs, bins=25)\n"
   ]
  },
  {
   "cell_type": "code",
   "execution_count": null,
   "metadata": {
    "pycharm": {
     "is_executing": false,
     "name": "#%%\n"
    }
   },
   "outputs": [],
   "source": [
    "plot_hist(prs[mask])\n",
    "# plt.savefig(\"hist.svg\")"
   ]
  },
  {
   "cell_type": "code",
   "execution_count": null,
   "metadata": {
    "pycharm": {
     "is_executing": false
    }
   },
   "outputs": [],
   "source": [
    "prs[mask].mean()"
   ]
  },
  {
   "cell_type": "code",
   "execution_count": null,
   "metadata": {
    "pycharm": {
     "is_executing": false,
     "name": "#%%\n"
    }
   },
   "outputs": [],
   "source": [
    "plot_hist(prs.flatten())"
   ]
  },
  {
   "cell_type": "code",
   "execution_count": null,
   "metadata": {
    "pycharm": {
     "is_executing": false
    }
   },
   "outputs": [],
   "source": [
    "prs.mean()"
   ]
  },
  {
   "cell_type": "code",
   "execution_count": null,
   "metadata": {
    "pycharm": {
     "is_executing": false,
     "name": "#%%\n"
    }
   },
   "outputs": [],
   "source": [
    "\n",
    "selected_masked = [1256, 1963, 1688, 2365] "
   ]
  },
  {
   "cell_type": "code",
   "execution_count": null,
   "metadata": {
    "pycharm": {
     "is_executing": false
    }
   },
   "outputs": [],
   "source": [
    "x, y, z = numpy.where(mask)\n",
    "for s in selected_masked:\n",
    "    print(s)\n",
    "    print(z[s], y[s], x[s])\n",
    "    \n",
    "    print('here', s, y[s] / 28, x[s] / 21)\n",
    "    \n",
    "print(mask.shape)"
   ]
  },
  {
   "cell_type": "code",
   "execution_count": null,
   "metadata": {
    "pycharm": {
     "is_executing": false
    }
   },
   "outputs": [],
   "source": [
    "for s in selected_masked:\n",
    "    plot_idx(s, name=str(s))"
   ]
  },
  {
   "cell_type": "code",
   "execution_count": null,
   "metadata": {
    "pycharm": {
     "is_executing": false
    }
   },
   "outputs": [],
   "source": []
  },
  {
   "cell_type": "code",
   "execution_count": null,
   "metadata": {
    "pycharm": {
     "name": "#%%\n"
    }
   },
   "outputs": [],
   "source": [
    "\n"
   ]
  }
 ],
 "metadata": {
  "kernelspec": {
   "display_name": "Python 3",
   "language": "python",
   "name": "python3"
  },
  "language_info": {
   "codemirror_mode": {
    "name": "ipython",
    "version": 3
   },
   "file_extension": ".py",
   "mimetype": "text/x-python",
   "name": "python",
   "nbconvert_exporter": "python",
   "pygments_lexer": "ipython3",
   "version": "3.7.3"
  },
  "pycharm": {
   "stem_cell": {
    "cell_type": "raw",
    "metadata": {
     "collapsed": false
    },
    "source": []
   }
  }
 },
 "nbformat": 4,
 "nbformat_minor": 1
}
