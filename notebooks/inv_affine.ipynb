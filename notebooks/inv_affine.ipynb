{
 "cells": [
  {
   "cell_type": "code",
   "execution_count": null,
   "metadata": {
    "collapsed": true,
    "pycharm": {
     "is_executing": false
    }
   },
   "outputs": [],
   "source": [
    "%load_ext autoreload\n",
    "%autoreload 2\n",
    "# %matplotlib inline \n",
    "# %matplotlib qt \n",
    "\n",
    "import matplotlib.pyplot as plt\n",
    "import numpy\n",
    "import torch\n",
    "from lnet.config.dataset.registration import Heart_tightCrop_Transform, staticHeartFOV_Transform\n",
    "\n",
    "from scipy.ndimage import zoom\n",
    "\n",
    "from tifffile import imread"
   ]
  },
  {
   "cell_type": "code",
   "execution_count": null,
   "outputs": [],
   "source": [
    "# AffineTransform = Heart_tightCrop_Transform\n",
    "# raw_ls_path = \"/g/kreshuk/LF_partially_restored/LenseLeNet_Microscope/20191208_dynamic_static_heart/fish2/static/Heart_tightCrop/5steps_stepsize8/2019-12-09_08.15.07/stack_4_channel_1/TP_00000/LC/Cam_Left.tif\"\n",
    "# registered_ls_path = \"/g/kreshuk/LF_partially_restored/LenseLeNet_Microscope/20191208_dynamic_static_heart/fish2/static/Heart_tightCrop/5steps_stepsize8/2019-12-09_08.15.07/stack_4_channel_1/TP_00000/LC/Cam_Left_registered.tif\"\n",
    "# lf_path = \"/g/kreshuk/LF_computed/LenseLeNet_Microscope/20191208_dynamic_static_heart/fish2/static/Heart_tightCrop/5steps_stepsize8/2019-12-09_08.15.07/stack_3_channel_0/TP_00000/RCout/Cam_Right_001.tif\"\n",
    "\n",
    "AffineTransform = staticHeartFOV_Transform\n",
    "raw_ls_path = \"/g/kreshuk/LF_computed/LenseLeNet_Microscope/20191208_dynamic_static_heart/fish3/static/staticHeartFOV/20steps_stepsize5/2019-12-10_04.24.29/stack_4_channel_1/TP_00000/LC/Cam_Left.tif\"\n",
    "registered_ls_path = \"/g/kreshuk/LF_computed/LenseLeNet_Microscope/20191208_dynamic_static_heart/fish3/static/staticHeartFOV/20steps_stepsize5/2019-12-10_04.24.29/stack_4_channel_1/TP_00000/LC/Cam_Left_registered.tif\"\n",
    "lf_path = \"/g/kreshuk/LF_computed/LenseLeNet_Microscope/20191208_dynamic_static_heart/fish3/static/staticHeartFOV/20steps_stepsize5/2019-12-10_04.24.29/stack_3_channel_0/TP_00000/RCout/Cam_Right_001.tif\"\n",
    "\n",
    "\n",
    "ls_crop = AffineTransform.lf2ls_crop\n",
    "raw_ls = imread(raw_ls_path)[ls_crop[0][0]:min(-1, -ls_crop[0][1]), ls_crop[1][0]:min(-1, -ls_crop[1][1]), ls_crop[2][0]:min(-1, -ls_crop[2][1])]\n",
    "raw_ls = raw_ls.astype(\"float\") / raw_ls.max()\n",
    "print(\"raw ls\", raw_ls.shape)\n",
    "registered_ls = imread(registered_ls_path)\n",
    "registered_ls  = registered_ls.astype(\"float\") /  registered_ls.max()\n",
    "print(\"registered ls\", registered_ls.shape)\n",
    "lf = imread(lf_path)\n",
    "lf  = lf.astype(\"float\") /  lf.max()\n",
    "print(\"lf\", lf.shape)"
   ],
   "metadata": {
    "collapsed": false,
    "pycharm": {
     "name": "#%%\n",
     "is_executing": false
    }
   }
  },
  {
   "cell_type": "code",
   "execution_count": null,
   "outputs": [],
   "source": [
    "resized_raw_ls = zoom(raw_ls, [49/raw_ls.shape[0], .1, .1])\n",
    "print(\"resized raw ls\", resized_raw_ls.shape)"
   ],
   "metadata": {
    "collapsed": false,
    "pycharm": {
     "name": "#%%\n",
     "is_executing": false
    }
   }
  },
  {
   "cell_type": "code",
   "execution_count": null,
   "outputs": [],
   "source": [
    "resized_registered_ls = zoom(registered_ls, [49/838, .1, .1])\n",
    "print(\"resized registered ls\", resized_registered_ls.shape)"
   ],
   "metadata": {
    "collapsed": false,
    "pycharm": {
     "name": "#%%\n",
     "is_executing": false
    }
   }
  },
  {
   "cell_type": "code",
   "execution_count": null,
   "outputs": [],
   "source": [
    "plt.imshow(raw_ls.max(axis=0))\n",
    "plt.title(\"raw_ls\")\n",
    "plt.show()\n",
    "\n",
    "plt.imshow(registered_ls.max(axis=0))\n",
    "plt.title(\"registered_ls\")\n",
    "plt.show()\n",
    "\n",
    "# plt.imshow(resized_registered_ls.max(axis=0))\n",
    "# plt.title(\"resized reg ls\")\n",
    "# plt.show()\n",
    "\n",
    "# plt.imshow(numpy.abs(lf[20] - resized_registered_ls[20]))\n",
    "# plt.title(\"diff\")\n",
    "# plt.colorbar()\n",
    "# plt.show()"
   ],
   "metadata": {
    "collapsed": false,
    "pycharm": {
     "name": "#%%\n",
     "is_executing": false
    }
   }
  },
  {
   "cell_type": "code",
   "execution_count": null,
   "outputs": [],
   "source": [
    "\n",
    "\n",
    "# # y_shape = (241, 1451, 1651)\n",
    "# # trf_shape = (838, 1273 + 0, 1463 + 0)\n",
    "# trf_shape = \n",
    "# output_shape =  (838, 1273, 1463)\n",
    "# # output_shape = (838, 1451, 1651)\n",
    "# trf = AffineTransform(trf_shape=output_shape, output_shape=output_shape, order=0)"
   ],
   "metadata": {
    "collapsed": false,
    "pycharm": {
     "name": "#%%\n",
     "is_executing": false
    }
   }
  },
  {
   "cell_type": "code",
   "execution_count": null,
   "outputs": [],
   "source": [
    "# plt.imshow(registered_ls.max(axis=0))\n",
    "# plt.title(\"registered_ls\")\n",
    "# plt.show()\n",
    "# \n",
    "# trf_shape = raw_ls.shape\n",
    "# output_shape = registered_ls.shape\n",
    "# print(\"trf_shape\", trf_shape, \"output_shape\", output_shape)\n",
    "# trf = AffineTransform(trf_shape=trf_shape, output_shape=output_shape, order=0)\n",
    "# \n",
    "# # plt.imshow(trf.forward_with_inverse(registered_ls).max(axis=0))\n",
    "# transformed_raw_ls = trf.forward_with_inverse(raw_ls)\n",
    "# plt.imshow(transformed_raw_ls.max(axis=0))\n",
    "# plt.colorbar()\n",
    "# plt.show()\n",
    "# print(\"done\")"
   ],
   "metadata": {
    "collapsed": false,
    "pycharm": {
     "name": "#%%\n",
     "is_executing": false
    }
   }
  },
  {
   "cell_type": "markdown",
   "source": [
    "## LF2LS"
   ],
   "metadata": {
    "collapsed": false,
    "pycharm": {
     "name": "#%% md\n"
    }
   }
  },
  {
   "cell_type": "code",
   "execution_count": null,
   "outputs": [],
   "source": [
    "# plt.imshow(raw_ls.max(axis=0))\n",
    "# plt.title(\"raw ls\")\n",
    "# plt.show()\n",
    "# plt.imshow(raw_ls.max(axis=1))\n",
    "# plt.show()\n",
    "# plt.imshow(raw_ls.max(axis=2))\n",
    "# plt.show()"
   ],
   "metadata": {
    "collapsed": false,
    "pycharm": {
     "name": "#%%\n",
     "is_executing": false
    }
   }
  },
  {
   "cell_type": "code",
   "execution_count": null,
   "outputs": [],
   "source": [
    "# trf = AffineTransform(output_shape=raw_ls.shape, order=0)\n",
    "# \n",
    "# transformed_registered_ls = trf.lf2ls(registered_ls)\n",
    "# plt.imshow(transformed_registered_ls.max(axis=0))\n",
    "# plt.show()\n",
    "# plt.imshow(transformed_registered_ls.max(axis=1))\n",
    "# plt.show()\n",
    "# plt.imshow(transformed_registered_ls.max(axis=2))\n",
    "# plt.show()\n",
    "# \n",
    "# print(\"done\")"
   ],
   "metadata": {
    "collapsed": false,
    "pycharm": {
     "name": "#%%\n",
     "is_executing": false
    }
   }
  },
  {
   "cell_type": "markdown",
   "source": [
    "## resized LF2LS"
   ],
   "metadata": {
    "collapsed": false,
    "pycharm": {
     "name": "#%% md\n",
     "is_executing": false
    }
   }
  },
  {
   "cell_type": "code",
   "execution_count": null,
   "outputs": [],
   "source": [
    "plt.imshow(resized_raw_ls.max(axis=0))\n",
    "plt.title(\"resized_raw_ls\")\n",
    "plt.show()\n",
    "plt.imshow(resized_raw_ls.max(axis=1))\n",
    "plt.title(\"resized_raw_ls\")\n",
    "plt.show()\n",
    "plt.imshow(resized_raw_ls.max(axis=2))\n",
    "plt.title(\"resized_raw_ls\")\n",
    "plt.show()"
   ],
   "metadata": {
    "collapsed": false,
    "pycharm": {
     "name": "#%%\n",
     "is_executing": false
    }
   }
  },
  {
   "cell_type": "code",
   "execution_count": null,
   "outputs": [],
   "source": [
    "trf = AffineTransform(output_shape=resized_raw_ls.shape, order=2)\n",
    "transformed_registered_ls = trf.lf2ls(registered_ls + .1)\n",
    "plt.imshow(transformed_registered_ls.max(axis=0))\n",
    "plt.show()\n",
    "plt.imshow(transformed_registered_ls.max(axis=1))\n",
    "plt.show()\n",
    "plt.imshow(transformed_registered_ls.max(axis=2))\n",
    "plt.show()\n",
    "\n",
    "print(\"done\")"
   ],
   "metadata": {
    "collapsed": false,
    "pycharm": {
     "name": "#%%\n",
     "is_executing": false
    }
   }
  },
  {
   "cell_type": "code",
   "execution_count": null,
   "outputs": [],
   "source": [
    "print(resized_raw_ls.max())\n",
    "print(transformed_registered_ls.max())"
   ],
   "metadata": {
    "collapsed": false,
    "pycharm": {
     "name": "#%%\n",
     "is_executing": false
    }
   }
  },
  {
   "cell_type": "code",
   "execution_count": null,
   "outputs": [],
   "source": [
    "plt.imshow(numpy.abs(resized_raw_ls.max(axis=0) - transformed_registered_ls.max(axis=0)))\n",
    "plt.show()\n",
    "plt.imshow(numpy.abs(resized_raw_ls.max(axis=1) - transformed_registered_ls.max(axis=1)))\n",
    "plt.show()\n",
    "plt.imshow(numpy.abs(resized_raw_ls.max(axis=2) - transformed_registered_ls.max(axis=2)))\n",
    "plt.show()"
   ],
   "metadata": {
    "collapsed": false,
    "pycharm": {
     "name": "#%%\n",
     "is_executing": false
    }
   }
  },
  {
   "cell_type": "markdown",
   "source": [
    "## LS2LF"
   ],
   "metadata": {
    "collapsed": false,
    "pycharm": {
     "name": "#%% md\n"
    }
   }
  },
  {
   "cell_type": "code",
   "execution_count": null,
   "outputs": [],
   "source": [
    "plt.imshow(registered_ls.max(axis=0))\n",
    "plt.title(\"registered_ls\")\n",
    "plt.show()\n",
    "plt.imshow(registered_ls.max(axis=1))\n",
    "plt.show()\n",
    "plt.imshow(registered_ls.max(axis=2))\n",
    "plt.show()"
   ],
   "metadata": {
    "collapsed": false,
    "pycharm": {
     "name": "#%%\n",
     "is_executing": false
    }
   }
  },
  {
   "cell_type": "code",
   "execution_count": null,
   "outputs": [],
   "source": [
    "trf = AffineTransform(output_shape=registered_ls.shape, order=0)\n",
    "\n",
    "transformed_raw_ls = trf.ls2lf(raw_ls)\n",
    "plt.imshow(transformed_raw_ls.max(axis=0))\n",
    "plt.show()\n",
    "plt.imshow(transformed_raw_ls.max(axis=1))\n",
    "plt.show()\n",
    "plt.imshow(transformed_raw_ls.max(axis=2))\n",
    "plt.show()\n",
    "\n",
    "print(\"done\")"
   ],
   "metadata": {
    "collapsed": false,
    "pycharm": {
     "name": "#%%\n",
     "is_executing": false
    }
   }
  },
  {
   "cell_type": "markdown",
   "source": [
    "## resized LS2LF"
   ],
   "metadata": {
    "collapsed": false,
    "pycharm": {
     "name": "#%% md\n",
     "is_executing": false
    }
   }
  },
  {
   "cell_type": "code",
   "execution_count": null,
   "outputs": [],
   "source": [
    "resized_registered_ls = zoom(registered_ls, [.1, .1, .1])\n",
    "plt.imshow(resized_registered_ls.max(axis=0))\n",
    "plt.title(\"resized_registered_ls\")\n",
    "plt.show()\n",
    "plt.imshow(resized_registered_ls.max(axis=1))\n",
    "plt.show()\n",
    "plt.imshow(resized_registered_ls.max(axis=2))\n",
    "plt.show()"
   ],
   "metadata": {
    "collapsed": false,
    "pycharm": {
     "name": "#%%\n",
     "is_executing": false
    }
   }
  },
  {
   "cell_type": "code",
   "execution_count": null,
   "outputs": [],
   "source": [
    "trf = AffineTransform(output_shape=resized_registered_ls.shape, order=0)\n",
    "\n",
    "transformed_raw_ls = trf.ls2lf(raw_ls)\n",
    "plt.imshow(transformed_raw_ls.max(axis=0))\n",
    "plt.show()\n",
    "plt.imshow(transformed_raw_ls.max(axis=1))\n",
    "plt.show()\n",
    "plt.imshow(transformed_raw_ls.max(axis=2))\n",
    "plt.show()\n",
    "\n",
    "print(\"done\")"
   ],
   "metadata": {
    "collapsed": false,
    "pycharm": {
     "name": "#%%\n",
     "is_executing": false
    }
   }
  },
  {
   "cell_type": "code",
   "execution_count": null,
   "outputs": [],
   "source": [
    "\n"
   ],
   "metadata": {
    "collapsed": false,
    "pycharm": {
     "name": "#%%\n"
    }
   }
  }
 ],
 "metadata": {
  "kernelspec": {
   "display_name": "Python 3",
   "language": "python",
   "name": "python3"
  },
  "language_info": {
   "codemirror_mode": {
    "name": "ipython",
    "version": 2
   },
   "file_extension": ".py",
   "mimetype": "text/x-python",
   "name": "python",
   "nbconvert_exporter": "python",
   "pygments_lexer": "ipython2",
   "version": "2.7.6"
  },
  "pycharm": {
   "stem_cell": {
    "cell_type": "raw",
    "source": [],
    "metadata": {
     "collapsed": false
    }
   }
  }
 },
 "nbformat": 4,
 "nbformat_minor": 0
}