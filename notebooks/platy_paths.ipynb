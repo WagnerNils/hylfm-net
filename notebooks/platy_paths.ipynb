{
 "cells": [
  {
   "cell_type": "code",
   "execution_count": null,
   "metadata": {
    "pycharm": {
     "is_executing": false
    }
   },
   "outputs": [],
   "source": [
    "import numpy\n",
    "import matplotlib.pyplot as plt\n",
    "\n",
    "from pathlib import Path\n",
    "from scipy.ndimage import gaussian_filter\n",
    "from scipy.stats import pearsonr\n",
    "from tifffile import imread\n",
    "from time import perf_counter"
   ]
  },
  {
   "cell_type": "code",
   "execution_count": null,
   "metadata": {
    "pycharm": {
     "is_executing": false,
     "name": "#%%\n"
    }
   },
   "outputs": [],
   "source": [
    "def plot_path(name):\n",
    "    with Path(name).open() as f:\n",
    "        data = f.read()\n",
    "    \n",
    "    data = [list(map(float, line.split())) for line in data.strip().split(\"\\n\")]\n",
    "    assert [len(d) == len(data[0]) for d in data]\n",
    "    \n",
    "    data = numpy.asarray(data, dtype=numpy.float)\n",
    "    \n",
    "    print(\"Pcoeff, p\", pearsonr(data[:, 1], data[:, 2]))    \n",
    "    plt.plot(data[:, 0], data[:, 1], label=\"target\")\n",
    "    plt.plot(data[:, 0], data[:, 2], label=\"pred\")\n",
    "    plt.legend()\n"
   ]
  },
  {
   "cell_type": "code",
   "execution_count": null,
   "metadata": {
    "pycharm": {
     "is_executing": false,
     "name": "#%%\n"
    }
   },
   "outputs": [],
   "source": [
    "plot_path(\"C:/repos/lnet/paths/path_test.txt\")"
   ]
  },
  {
   "cell_type": "code",
   "execution_count": null,
   "metadata": {
    "pycharm": {
     "is_executing": false,
     "name": "#%%\n"
    }
   },
   "outputs": [],
   "source": [
    "plot_path( \"C:/repos/lnet/paths/path_test2.txt\")"
   ]
  },
  {
   "cell_type": "code",
   "execution_count": null,
   "metadata": {
    "pycharm": {
     "is_executing": false,
     "name": "#%%\n"
    }
   },
   "outputs": [],
   "source": [
    "plot_path(\"/g/kreshuk/beuttenm/repos/lensletnet/logs/eval/19-10-10_12-39_2eeff61_on_platy.p_c/result/test/paths/epoch0/path0.txt\")\n",
    "# plot_path(\"K:/beuttenm/repos/lensletnet/logs/eval/19-10-10_12-39_2eeff61_on_platy.p_c/result/test/paths/epoch0/path0.txt\")"
   ]
  },
  {
   "cell_type": "code",
   "execution_count": null,
   "metadata": {
    "pycharm": {
     "is_executing": false,
     "name": "#%%\n"
    }
   },
   "outputs": [],
   "source": [
    "plot_path(\"K:/beuttenm/repos/lensletnet/logs/eval/19-10-10_12-39_2eeff61_on_platy.p_c/result/test/paths/epoch0/path1.txt\")"
   ]
  },
  {
   "cell_type": "code",
   "execution_count": null,
   "metadata": {
    "pycharm": {
     "is_executing": false,
     "name": "#%%\n"
    }
   },
   "outputs": [],
   "source": [
    "def get_data(name):\n",
    "    with Path(name).open() as f:\n",
    "        data = f.read()\n",
    "    \n",
    "    data = [list(map(float, line.split(\",\"))) for line in data.strip().split(\"\\n\")[1:]]\n",
    "    assert [len(d) == len(data[0]) for d in data]\n",
    "    \n",
    "    data =  numpy.asarray(data, dtype=numpy.float32)\n",
    "    data[:, 1] /= numpy.iinfo(numpy.uint16).max\n",
    "    return data\n",
    "\n",
    "def plot_custom_path(name, add_label=\"\"):\n",
    "    pred = get_data(name)\n",
    "    assert \"_pred.csv\" in name\n",
    "    tgt = get_data(name.replace(\"_pred.csv\", \"_tgt.csv\"))\n",
    "    pcoeff, p = pearsonr(tgt[:, 1], pred[:, 1])\n",
    "    print(\"Pcoeff, p for\", add_label, pcoeff, p)    \n",
    "\n",
    "    plt.plot(tgt[:, 0], tgt[:, 1], label=\"target\" + add_label)\n",
    "    plt.plot(pred[:, 0], pred[:, 1], label=\"pred\" + add_label + f\" {pcoeff:.2f}\")\n",
    "    plt.legend()"
   ]
  },
  {
   "cell_type": "code",
   "execution_count": null,
   "metadata": {
    "pycharm": {
     "is_executing": false,
     "name": "#%%\n"
    }
   },
   "outputs": [],
   "source": [
    "# plot_custom_path(\"C:/Users/fbeut/owncloud/lensletnet/platy/custom_paths/customx131y125z16_pred.csv\", \" z16\")\n",
    "# plot_custom_path(\"C:/Users/fbeut/owncloud/lensletnet/platy/custom_paths/customx131y125z17_pred.csv\", \" z17\")"
   ]
  },
  {
   "cell_type": "code",
   "execution_count": null,
   "metadata": {
    "pycharm": {
     "is_executing": false,
     "name": "#%%\n"
    }
   },
   "outputs": [],
   "source": [
    "# plot_custom_path(\"C:/Users/fbeut/owncloud/lensletnet/platy/custom_paths/customx175y109z15_pred.csv\", \" z15\")\n",
    "# plot_custom_path(\"C:/Users/fbeut/owncloud/lensletnet/platy/custom_paths/customx175y109z16_pred.csv\", \" z16\")\n",
    "# plot_custom_path(\"C:/Users/fbeut/owncloud/lensletnet/platy/custom_paths/customx175y109z17_pred.csv\", \" z17\")\n",
    "plot_custom_path(\"C:/Users/fbeut/owncloud/lensletnet/platy/custom_paths/customx175y109z18_pred.csv\", \" z18\")"
   ]
  },
  {
   "cell_type": "code",
   "execution_count": null,
   "metadata": {
    "pycharm": {
     "is_executing": false,
     "name": "#%%\n"
    }
   },
   "outputs": [],
   "source": [
    "def get_raw_data(name):\n",
    "    paths = sorted(list(Path(name).glob(\"*.tif\")))\n",
    "    data = []\n",
    "    for path in paths:\n",
    "        data.append((imread(path.as_posix()) / numpy.iinfo(numpy.uint16).max).astype(numpy.float32))\n",
    "    \n",
    "    return numpy.asarray(data)"
   ]
  },
  {
   "cell_type": "code",
   "execution_count": null,
   "metadata": {
    "pycharm": {
     "is_executing": false,
     "name": "#%%\n"
    }
   },
   "outputs": [],
   "source": [
    "pred = get_raw_data(\"/g/kreshuk/beuttenm/repos/lensletnet/logs/eval/19-10-10_12-39_2eeff61_on_platy.p_c/result/test/prediction\")"
   ]
  },
  {
   "cell_type": "code",
   "execution_count": null,
   "metadata": {
    "pycharm": {
     "is_executing": false,
     "name": "#%%\n"
    }
   },
   "outputs": [],
   "source": [
    "print(pred.shape)"
   ]
  },
  {
   "cell_type": "code",
   "execution_count": null,
   "metadata": {
    "pycharm": {
     "is_executing": false,
     "name": "#%%\n"
    }
   },
   "outputs": [],
   "source": [
    "tgt = get_raw_data(\"/g/kreshuk/beuttenm/repos/lensletnet/logs/eval/19-10-10_12-39_2eeff61_on_platy.p_c/result/test/target\")"
   ]
  },
  {
   "cell_type": "code",
   "execution_count": null,
   "metadata": {
    "pycharm": {
     "is_executing": false,
     "name": "#%%\n"
    }
   },
   "outputs": [],
   "source": [
    "print(tgt.shape)"
   ]
  },
  {
   "cell_type": "code",
   "execution_count": null,
   "metadata": {
    "pycharm": {
     "is_executing": false,
     "name": "#%%\n"
    }
   },
   "outputs": [],
   "source": [
    "plt.imshow(pred[0 ,0].max(0))"
   ]
  },
  {
   "cell_type": "code",
   "execution_count": null,
   "metadata": {
    "pycharm": {
     "is_executing": false,
     "name": "#%%\n"
    }
   },
   "outputs": [],
   "source": [
    "plt.imshow(tgt[0 ,0].max(0))"
   ]
  },
  {
   "cell_type": "code",
   "execution_count": null,
   "metadata": {
    "pycharm": {
     "is_executing": false,
     "name": "#%%\n"
    }
   },
   "outputs": [],
   "source": [
    "pred_smooth = gaussian_filter(pred, sigma=2)"
   ]
  },
  {
   "cell_type": "code",
   "execution_count": null,
   "metadata": {
    "pycharm": {
     "is_executing": false,
     "name": "#%%\n"
    }
   },
   "outputs": [],
   "source": [
    "plt.imshow(pred_smooth[0 ,0].max(0))\n",
    "\n"
   ]
  },
  {
   "cell_type": "code",
   "execution_count": null,
   "metadata": {
    "pycharm": {
     "is_executing": false,
     "name": "#%%\n"
    }
   },
   "outputs": [],
   "source": [
    "pred_sample = numpy.array(pred[:10])\n",
    "\n"
   ]
  },
  {
   "cell_type": "code",
   "execution_count": null,
   "metadata": {
    "pycharm": {
     "is_executing": false,
     "name": "#%%\n"
    }
   },
   "outputs": [],
   "source": [
    "plt.imshow(gaussian_filter(pred_sample, sigma=3)[5, 0, 14])\n",
    "\n",
    "\n"
   ]
  },
  {
   "cell_type": "code",
   "execution_count": null,
   "metadata": {
    "pycharm": {
     "is_executing": false,
     "name": "#%%\n"
    }
   },
   "outputs": [],
   "source": [
    "def bin(data):\n",
    "    shape = data.shape\n",
    "    assert len(shape) == 5\n",
    "    assert shape[1] == 1\n",
    "    assert all([os % 10 == 0 for os in shape[3:]])\n",
    "    data = data[:, 0]\n",
    "    \n",
    "    out_shape = numpy.asarray(data.shape)\n",
    "    out_shape[0:2] -= 2\n",
    "    out_shape[2:] //= 10\n",
    "    assert all([os > 0 for os in out_shape])\n",
    "    \n",
    "    step = 10\n",
    "    xy = numpy.mean(numpy.stack([data[:, :, x0::step, y0::step] for x0 in range(step) for y0 in range(step)]), axis=0)\n",
    "    z = numpy.sum(numpy.stack([0.25* xy[:, :-2], 0.5 * xy[:, 1:-1], 0.25 * xy[:, 2:]]), axis=0)\n",
    "    t = numpy.sum(numpy.stack([0.25* z[:-2], 0.5 * z[1:-1], 0.25 * z[2:]]), axis=0)\n",
    "    \n",
    "    return t\n",
    "\n",
    "            "
   ]
  },
  {
   "cell_type": "code",
   "execution_count": null,
   "metadata": {
    "pycharm": {
     "is_executing": false,
     "name": "#%%\n"
    }
   },
   "outputs": [],
   "source": [
    "pred_binned = bin(pred[:, :, :, 4:-4, 4:-4])\n",
    "pred_binned.shape"
   ]
  },
  {
   "cell_type": "code",
   "execution_count": null,
   "metadata": {
    "pycharm": {
     "is_executing": false,
     "name": "#%%\n"
    }
   },
   "outputs": [],
   "source": [
    "tgt_binned = bin(tgt[:, :, :, 4:-4, 4:-4])\n",
    "tgt_binned.shape"
   ]
  },
  {
   "cell_type": "code",
   "execution_count": null,
   "metadata": {
    "pycharm": {
     "is_executing": false,
     "name": "#%%\n"
    }
   },
   "outputs": [],
   "source": [
    "roi = (slice(None), 13, 10, 10)\n",
    "print(pearsonr(pred_binned[roi], tgt_binned[roi]))"
   ]
  },
  {
   "cell_type": "code",
   "execution_count": null,
   "metadata": {
    "pycharm": {
     "is_executing": false,
     "name": "#%%\n"
    }
   },
   "outputs": [],
   "source": [
    "start = perf_counter()\n",
    "prs = numpy.empty(tgt_binned.shape[1:], dtype=numpy.float32)\n",
    "for z in range(tgt_binned.shape[1]):\n",
    "    for y in range(tgt_binned.shape[2]):\n",
    "        for x in range(tgt_binned.shape[3]):\n",
    "            prs[z, y, x] = pearsonr(pred_binned[:, z, y, x], tgt_binned[:, z, y, x])[0]\n",
    "\n",
    "print(perf_counter() - start)"
   ]
  },
  {
   "cell_type": "code",
   "execution_count": null,
   "metadata": {
    "pycharm": {
     "is_executing": false,
     "name": "#%%\n"
    }
   },
   "outputs": [],
   "source": [
    "plt.imshow(prs[0])\n",
    "plt.colorbar()"
   ]
  },
  {
   "cell_type": "code",
   "execution_count": null,
   "metadata": {
    "pycharm": {
     "is_executing": false,
     "name": "#%%\n"
    }
   },
   "outputs": [],
   "source": [
    "plt.imshow(tgt_binned[0].max(0))"
   ]
  },
  {
   "cell_type": "code",
   "execution_count": null,
   "metadata": {
    "pycharm": {
     "is_executing": false,
     "name": "#%%\n"
    }
   },
   "outputs": [],
   "source": [
    "prs.max()"
   ]
  },
  {
   "cell_type": "code",
   "execution_count": null,
   "metadata": {
    "pycharm": {
     "is_executing": false,
     "name": "#%%\n"
    }
   },
   "outputs": [],
   "source": [
    "stds = tgt_binned.std(axis=0)\n",
    "stds.shape"
   ]
  },
  {
   "cell_type": "code",
   "execution_count": null,
   "metadata": {
    "pycharm": {
     "is_executing": false,
     "name": "#%%\n"
    }
   },
   "outputs": [],
   "source": [
    "stds.mean()"
   ]
  },
  {
   "cell_type": "code",
   "execution_count": null,
   "metadata": {
    "pycharm": {
     "is_executing": false,
     "name": "#%%\n"
    }
   },
   "outputs": [],
   "source": [
    "mask = stds > .03\n",
    "masked_prs = numpy.array(prs)\n",
    "masked_prs[~mask] = numpy.nan\n",
    "print('mean masked pr', numpy.nanmean(masked_prs))\n",
    "plt.imshow(mask.max(axis=0))"
   ]
  },
  {
   "cell_type": "code",
   "execution_count": null,
   "metadata": {
    "pycharm": {
     "is_executing": false,
     "name": "#%%\n"
    }
   },
   "outputs": [],
   "source": [
    "mask = stds > .05\n",
    "masked_prs = numpy.array(prs)\n",
    "masked_prs[~mask] = numpy.nan\n",
    "print('mean masked pr', numpy.nanmean(masked_prs))\n",
    "plt.imshow(mask.max(axis=0))"
   ]
  },
  {
   "cell_type": "code",
   "execution_count": null,
   "metadata": {
    "pycharm": {
     "name": "#%%\n"
    }
   },
   "outputs": [],
   "source": [
    "msum = mask.sum()\n",
    "print(msum, msum / numpy.prod(mask.shape))"
   ]
  },
  {
   "cell_type": "code",
   "execution_count": null,
   "metadata": {
    "pycharm": {
     "is_executing": false,
     "name": "#%%\n"
    }
   },
   "outputs": [],
   "source": [
    "show = numpy.array(tgt_binned[0])\n",
    "show[~mask] = 0\n",
    "plt.imshow(show.max(axis=0))"
   ]
  },
  {
   "cell_type": "code",
   "execution_count": null,
   "metadata": {
    "pycharm": {
     "is_executing": false,
     "name": "#%%\n"
    }
   },
   "outputs": [],
   "source": [
    "def plot_masked(data, mask):\n",
    "    data = numpy.array(data)\n",
    "    data[~mask] = numpy.nan\n",
    "    plt.imshow(numpy.nanmax(data, axis=0))\n",
    "    plt.colorbar()"
   ]
  },
  {
   "cell_type": "code",
   "execution_count": null,
   "metadata": {
    "pycharm": {
     "is_executing": false,
     "name": "#%%\n"
    }
   },
   "outputs": [],
   "source": [
    "plot_masked(prs, mask)\n",
    "plt.show()"
   ]
  },
  {
   "cell_type": "code",
   "execution_count": null,
   "metadata": {
    "pycharm": {
     "is_executing": false,
     "name": "#%%\n"
    }
   },
   "outputs": [],
   "source": [
    "def plot_ts(tgt, pred):\n",
    "    fig, ax_tgt = plt.subplots()\n",
    "    ax_pred = ax_tgt.twinx()\n",
    "    ax_tgt.set_xlabel(\"t\")\n",
    "    ax_tgt.set_ylabel(\"target\")\n",
    "    ax_pred.set_ylabel(\"prediction\")\n",
    "    \n",
    "    tgt = numpy.array(tgt)\n",
    "    pred = numpy.array(pred)\n",
    "    add_label = \"\"\n",
    "    lns = ax_tgt.plot(tgt, color=\"r\", label=\"target\" + add_label)\n",
    "    lns += ax_pred.plot(pred, color=\"b\", label=\"prediction\" + add_label) # + f\" {pcoeff:.2f}\n",
    "\n",
    "    labs = [l.get_label() for l in lns]\n",
    "    ax_tgt.legend(lns, labs)\n",
    "    plt.show()"
   ]
  },
  {
   "cell_type": "code",
   "execution_count": null,
   "metadata": {
    "pycharm": {
     "is_executing": false,
     "name": "#%%\n"
    }
   },
   "outputs": [],
   "source": [
    "for idx in range(0, 1000, 100):\n",
    "    plot_ts(tgt_binned[:, mask][:, idx], pred_binned[:, mask][:, idx])"
   ]
  },
  {
   "cell_type": "code",
   "execution_count": null,
   "metadata": {
    "pycharm": {
     "is_executing": false,
     "name": "#%%\n"
    }
   },
   "outputs": [],
   "source": [
    "for idx in range(1, 1000, 100):\n",
    "    plot_ts(tgt_binned[:, mask][:, idx], pred_binned[:, mask][:, idx])"
   ]
  },
  {
   "cell_type": "code",
   "execution_count": null,
   "metadata": {
    "pycharm": {
     "is_executing": false,
     "name": "#%%\n"
    }
   },
   "outputs": [],
   "source": [
    "for idx in range(2, 1000, 100):\n",
    "    plot_ts(tgt_binned[:, mask][:, idx], pred_binned[:, mask][:, idx])"
   ]
  },
  {
   "cell_type": "code",
   "execution_count": null,
   "metadata": {
    "pycharm": {
     "is_executing": false,
     "name": "#%%\n"
    }
   },
   "outputs": [],
   "source": [
    "for idx in range(50, 1000, 100):\n",
    "    plot_ts(tgt_binned[:, mask][:, idx], pred_binned[:, mask][:, idx])"
   ]
  },
  {
   "cell_type": "code",
   "execution_count": null,
   "metadata": {
    "pycharm": {
     "is_executing": false,
     "name": "#%%\n"
    }
   },
   "outputs": [],
   "source": []
  },
  {
   "cell_type": "code",
   "execution_count": null,
   "metadata": {
    "pycharm": {
     "is_executing": false,
     "name": "#%%\n"
    }
   },
   "outputs": [],
   "source": []
  },
  {
   "cell_type": "code",
   "execution_count": null,
   "metadata": {
    "pycharm": {
     "is_executing": false,
     "name": "#%%\n"
    }
   },
   "outputs": [],
   "source": []
  },
  {
   "cell_type": "code",
   "execution_count": null,
   "metadata": {
    "pycharm": {
     "name": "#%%\n"
    }
   },
   "outputs": [],
   "source": [
    "def plot_hist(prs):\n",
    "    fig, ax = plt.subplots()\n",
    "    ax.yaxis.tick_right()\n",
    "    plt.hist(prs, bins=20)"
   ]
  },
  {
   "cell_type": "code",
   "execution_count": null,
   "metadata": {},
   "outputs": [],
   "source": [
    "plot_hist(prs.flatten())"
   ]
  },
  {
   "cell_type": "code",
   "execution_count": null,
   "metadata": {},
   "outputs": [],
   "source": [
    "plot_hist(prs[mask])"
   ]
  },
  {
   "cell_type": "code",
   "execution_count": null,
   "metadata": {},
   "outputs": [],
   "source": []
  }
 ],
 "metadata": {
  "kernelspec": {
   "display_name": "Python 3",
   "language": "python",
   "name": "python3"
  },
  "language_info": {
   "codemirror_mode": {
    "name": "ipython",
    "version": 3
   },
   "file_extension": ".py",
   "mimetype": "text/x-python",
   "name": "python",
   "nbconvert_exporter": "python",
   "pygments_lexer": "ipython3",
   "version": "3.7.3"
  },
  "pycharm": {
   "stem_cell": {
    "cell_type": "raw",
    "metadata": {
     "collapsed": false
    },
    "source": []
   }
  }
 },
 "nbformat": 4,
 "nbformat_minor": 1
}
