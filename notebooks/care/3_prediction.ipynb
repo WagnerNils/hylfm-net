{
 "cells": [
  {
   "cell_type": "code",
   "execution_count": null,
   "metadata": {},
   "outputs": [],
   "source": [
    "import os\n",
    "os.environ[\"CUDA_VISIBLE_DEVICES\"] = \"3\"\n",
    "import tensorflow as tf\n",
    "assert tf.test.is_built_with_cuda()\n",
    "\n",
    "from tensorflow.python.client import device_lib\n",
    "\n",
    "device_lib.list_local_devices()"
   ]
  },
  {
   "cell_type": "code",
   "execution_count": null,
   "metadata": {},
   "outputs": [],
   "source": [
    "from __future__ import print_function, unicode_literals, absolute_import, division\n",
    "import numpy as np\n",
    "import matplotlib.pyplot as plt\n",
    "%matplotlib inline\n",
    "%config InlineBackend.figure_format = 'retina'\n",
    "\n",
    "from shutil import copy\n",
    "from tqdm import tqdm\n",
    "from tifffile import imread\n",
    "from csbdeep.utils import Path, download_and_extract_zip_file, plot_some\n",
    "from csbdeep.io import save_tiff_imagej_compatible\n",
    "from csbdeep.models import CARE"
   ]
  },
  {
   "cell_type": "code",
   "execution_count": null,
   "metadata": {},
   "outputs": [],
   "source": [
    "def setup_inference(*, subpath: str, model_name: str):\n",
    "    model_subpath = subpath\n",
    "    ls = \"ls_reg\" if \"beads\" in subpath else \"ls_slice\" if \"dynamic\" in subpath else \"ls_trf\"\n",
    "    data_path = Path(\"/scratch/beuttenm/lnet/care/\") / subpath\n",
    "    result_path = Path(\"/g/kreshuk/LF_computed/lnet/care/results\") / subpath / model_name\n",
    "\n",
    "    if subpath == \"beads/f4_01highc\":\n",
    "        assert model_name in [\"ep100\", \"ep400\"]\n",
    "\n",
    "        def postprocess(restored):\n",
    "            assert len(restored.shape) == 3\n",
    "            restored = restored[3:-2, 2:-2, :]\n",
    "            assert restored.shape == (51, 180, 280)\n",
    "            return restored\n",
    "\n",
    "        ls_postprocess = postprocess\n",
    "    elif subpath == \"beads/f8_01highc\":\n",
    "        assert model_name in [\"v0_spe400_on_56x64x64\", \"v0_spe400_on_56x80x80\", \"v0_spe1000_on_56x80x80\"]\n",
    "\n",
    "        def postprocess(restored):\n",
    "            assert len(restored.shape) == 3\n",
    "            restored = restored[3:-2, :, :]\n",
    "            assert restored.shape == (51, 376, 576)\n",
    "            return restored\n",
    "\n",
    "        ls_postprocess = postprocess\n",
    "    elif subpath.startswith(\"heart/static\"):\n",
    "        assert model_name in [\"v0_spe1000_on_48x88x88\"]\n",
    "\n",
    "        def postprocess(restored):\n",
    "            assert len(restored.shape) == 3\n",
    "            restored = restored[:, :, :]\n",
    "            assert restored.shape == (48, 244, 284), restored.shape\n",
    "            return restored\n",
    "\n",
    "        ls_postprocess = postprocess\n",
    "    elif subpath == \"heart/dynamic\":\n",
    "        result_path = Path(\"/scratch/beuttenm/lnet/care/results\") / subpath / model_name\n",
    "        model_subpath = \"heart/static\"\n",
    "        assert model_name in [\"v0_spe1000_on_48x88x88\"]\n",
    "\n",
    "        def postprocess(restored):\n",
    "            assert len(restored.shape) == 3\n",
    "            #         restored =  restored[:, :, :]\n",
    "            assert restored.shape == (49, 244, 284), restored.shape\n",
    "            return restored\n",
    "\n",
    "        ls_postprocess = None\n",
    "    else:\n",
    "        raise NotImplementedError(subpath)\n",
    "\n",
    "    model_basedir = \"/g/kreshuk/LF_computed/lnet/care/models/\" + model_subpath\n",
    "    assert (Path(model_basedir) / model_name).exists(), Path(model_basedir) / model_name\n",
    "\n",
    "    result_path.mkdir(parents=True, exist_ok=True)\n",
    "\n",
    "    return {\n",
    "        \"model_name\": model_name,\n",
    "        \"subpath\": subpath,\n",
    "        \"model_basedir\": model_basedir,\n",
    "        \"model_subpath\": model_subpath,\n",
    "        \"ls\": ls,\n",
    "        \"data_path\": data_path,\n",
    "        \"result_path\": result_path,\n",
    "        \"postprocess\": postprocess,\n",
    "        \"ls_postprocess\": ls_postprocess,\n",
    "    }\n"
   ]
  },
  {
   "cell_type": "code",
   "execution_count": null,
   "metadata": {},
   "outputs": [],
   "source": [
    "setup = setup_inference(subpath = \"heart/static3\", model_name = \"v0_spe1000_on_48x88x88\")\n",
    "model_subpath = setup[\"model_subpath\"]\n",
    "ls  = setup[\"ls\"] \n",
    "data_path= setup[\"data_path\"]\n",
    "results = setup[\"result_path\"]\n",
    "postprocess = setup[\"postprocess\"]\n",
    "ls_postprocess = setup[\"ls_postprocess\"]\n",
    "model_name = setup[\"model_name\"]\n",
    "model_basedir = setup[\"model_basedir\"]"
   ]
  },
  {
   "cell_type": "markdown",
   "metadata": {},
   "source": [
    "<hr style=\"height:2px;\">\n",
    "\n",
    "# Raw low-SNR image and associated high-SNR ground truth\n",
    "\n",
    "Plot the test stack pair and define its image axes, which will be needed later for CARE prediction."
   ]
  },
  {
   "cell_type": "code",
   "execution_count": null,
   "metadata": {},
   "outputs": [],
   "source": [
    "idx = 0\n",
    "axes = \"ZYX\"\n",
    "x = imread(str(data_path / f\"test/lr/{idx:05}.tif\"))\n",
    "\n",
    "if ls == \"ls_slice\":\n",
    "    y = x\n",
    "else:\n",
    "    y = imread(str(data_path / f\"test/{ls}/{idx:05}.tif\"))\n",
    "\n",
    "print('image size =', x.shape)\n",
    "\n",
    "plt.figure(figsize=(16,10))\n",
    "plot_some(np.stack([x,y]),\n",
    "          title_list=[['low (maximum projection)','GT (maximum projection)']], \n",
    "          pmin=2,pmax=99.8);"
   ]
  },
  {
   "cell_type": "markdown",
   "metadata": {},
   "source": [
    "<hr style=\"height:2px;\">\n",
    "\n",
    "# CARE model\n",
    "\n",
    "Load trained model (located in base directory `models` with name `my_model`) from disk.  \n",
    "The configuration was saved during training and is automatically loaded when `CARE` is initialized with `config=None`."
   ]
  },
  {
   "cell_type": "code",
   "execution_count": null,
   "metadata": {},
   "outputs": [],
   "source": [
    "# model = CARE(config=None, name='ep400', basedir='models')\n",
    "model = CARE(config=None, name=model_name, basedir=model_basedir)"
   ]
  },
  {
   "cell_type": "markdown",
   "metadata": {},
   "source": [
    "## Apply CARE network to raw image\n",
    "\n",
    "Predict the restored image (image will be successively split into smaller tiles if there are memory issues)."
   ]
  },
  {
   "cell_type": "code",
   "execution_count": null,
   "metadata": {},
   "outputs": [],
   "source": [
    "%%time\n",
    "restored = model.predict(x, axes)"
   ]
  },
  {
   "cell_type": "markdown",
   "metadata": {},
   "source": [
    "Alternatively, one can directly set `n_tiles` to avoid the time overhead from multiple retries in case of memory issues.\n",
    "\n",
    "**Note**: *Out of memory* problems during `model.predict` can also indicate that the GPU is used by another process. In particular, shut down the training notebook before running the prediction (you may need to restart this notebook)."
   ]
  },
  {
   "cell_type": "code",
   "execution_count": null,
   "metadata": {},
   "outputs": [],
   "source": [
    "# %%time\n",
    "# restored = model.predict(x, axes, n_tiles=(1,4,4))"
   ]
  },
  {
   "cell_type": "markdown",
   "metadata": {},
   "source": [
    "## Save restored image\n",
    "\n",
    "Save the restored image stack as a ImageJ-compatible TIFF image, i.e. the image can be opened in ImageJ/Fiji with correct axes semantics."
   ]
  },
  {
   "cell_type": "code",
   "execution_count": null,
   "metadata": {},
   "outputs": [],
   "source": [
    "# save_tiff_imagej_compatible(str(results / f\"{idx:05}.tif\"), restored, axes)"
   ]
  },
  {
   "cell_type": "markdown",
   "metadata": {},
   "source": [
    "<hr style=\"height:2px;\">\n",
    "\n",
    "# Raw low/high-SNR image and denoised image via CARE network\n",
    "\n",
    "Plot the test stack pair and the predicted restored stack (middle)."
   ]
  },
  {
   "cell_type": "code",
   "execution_count": null,
   "metadata": {},
   "outputs": [],
   "source": [
    "plt.figure(figsize=(16,10))\n",
    "plot_some(np.stack([x,restored,y]),\n",
    "          title_list=[['low (maximum projection)','CARE (maximum projection)','GT (maximum projection)']], \n",
    "          pmin=2,pmax=99.8);"
   ]
  },
  {
   "cell_type": "code",
   "execution_count": null,
   "metadata": {},
   "outputs": [],
   "source": [
    "for file_path in tqdm(list(data_path.glob(f\"test/lr/*.tif\"))):\n",
    "    if ls != \"ls_slice\":\n",
    "        y_out_path = Path(\"/g/kreshuk/LF_computed/lnet/care/gt\") / subpath / f\"test/{ls}\" / file_path.name\n",
    "        if not y_out_path.exists():\n",
    "            y_out_path.parent.mkdir(parents=True, exist_ok=True)\n",
    "            y_path = data_path / f\"test/{ls}\" / file_path.name\n",
    "            y = imread(str(y_path))\n",
    "            y = y_postprocess(y)\n",
    "            save_tiff_imagej_compatible(str(y_out_path), y, axes)\n",
    "\n",
    "    if (results / file_path.name).exists():\n",
    "        continue\n",
    "\n",
    "    x = imread(str(file_path))\n",
    "    restored = model.predict(x, axes)\n",
    "    restored = postprocess(restored)\n",
    "    save_tiff_imagej_compatible(str(results / file_path.name), restored, axes)\n",
    "    \n",
    "print('done')"
   ]
  },
  {
   "cell_type": "code",
   "execution_count": null,
   "metadata": {},
   "outputs": [],
   "source": [
    "print('meh')"
   ]
  },
  {
   "cell_type": "code",
   "execution_count": null,
   "metadata": {},
   "outputs": [],
   "source": []
  }
 ],
 "metadata": {
  "kernelspec": {
   "display_name": "Python 3",
   "language": "python",
   "name": "python3"
  },
  "language_info": {
   "codemirror_mode": {
    "name": "ipython",
    "version": 3
   },
   "file_extension": ".py",
   "mimetype": "text/x-python",
   "name": "python",
   "nbconvert_exporter": "python",
   "pygments_lexer": "ipython3",
   "version": "3.7.3"
  }
 },
 "nbformat": 4,
 "nbformat_minor": 2
}
