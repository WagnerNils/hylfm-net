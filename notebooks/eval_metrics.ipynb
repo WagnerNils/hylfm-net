{
 "cells": [
  {
   "cell_type": "code",
   "execution_count": null,
   "metadata": {},
   "outputs": [],
   "source": [
    "import z5py\n",
    "import numpy\n",
    "import matplotlib.pyplot as plt\n",
    "\n",
    "import torch\n",
    "from pathlib import Path\n",
    "from functools import partial\n",
    "from tifffile import imread\n",
    "\n",
    "import sys\n",
    "\n",
    "sys.path.append(\"..\")\n",
    "\n",
    "from lnet.utils.metrics import MSSSIM, SSIM, NRMSE, PSNR"
   ]
  },
  {
   "cell_type": "code",
   "execution_count": null,
   "metadata": {},
   "outputs": [],
   "source": []
  },
  {
   "cell_type": "code",
   "execution_count": null,
   "metadata": {},
   "outputs": [],
   "source": [
    "# ls_fname = \"F02-FishStaticLS_488nm_8f43dd13abf527f124bc0463bd5638ed2754dbe471a80a6c5867a675.n5\"\n",
    "# rl_fname = \"F02-FishStaticLS_488nm_e555755a6af77c8843c7871a6e3947f6f00ff9d4bdbd0effe0e3fde9.n5\"\n",
    "# data_path = \"/g/kreshuk/beuttenm/repos/lensletnet/data/\"\n",
    "ls_fname = \"fish/02_LS1r/0/19-09-30_17-28_5f06630_r_regional_c\"\n",
    "rl_fname = \"fish/02_LS1r/1-lr/19-09-30_18-11_72e86b7_rfishrl_c\"\n",
    "data_path = \"/g/kreshuk/beuttenm/repos/lensletnet/logs/\"\n"
   ]
  },
  {
   "cell_type": "code",
   "execution_count": null,
   "metadata": {},
   "outputs": [],
   "source": [
    "# path = data_path + ls_fname\n",
    "# assert Path(path).exists(), path\n",
    "# file = z5py.File(path, mode=\"r\")\n",
    "# _, ls = file[\"x\"], file[\"y\"][:4]\n",
    "\n",
    "# path = data_path + rl_fname\n",
    "# assert Path(path).exists(), path\n",
    "# file = z5py.File(path, mode=\"r\")\n",
    "# _, rl = file[\"x\"], file[\"y\"][:4]\n",
    "\n",
    "def get_stack(path):\n",
    "    paths = sorted(list(path.glob(\"*.tif\")))\n",
    "    ret = []\n",
    "    for path in paths:\n",
    "        ret.append((imread(path.as_posix()) / numpy.iinfo(numpy.uint16).max).astype(numpy.float32))\n",
    "    \n",
    "    return ret\n",
    "\n",
    "ls_target = get_stack(Path(data_path + ls_fname) / \"result/test/target\" )\n",
    "print(len(ls_target)) \n",
    "\n",
    "ls_pred = get_stack(Path(data_path + ls_fname) / \"result/test/prediction\" )\n",
    "print(len(ls_pred)) \n",
    "\n",
    "rl_target = get_stack(Path(data_path + rl_fname) / \"result/test/target\" )\n",
    "print(len(rl_target)) \n",
    "\n",
    "rl_pred = get_stack(Path(data_path + rl_fname) / \"result/test/prediction\" )\n",
    "print(len(rl_pred)) "
   ]
  },
  {
   "cell_type": "code",
   "execution_count": null,
   "metadata": {},
   "outputs": [],
   "source": [
    "metric_names = \"MSSSIM,SSIM,NRMSE,PSNR\".split(\",\")\n",
    "def get_metrics(tgt_stack, pred_stack):    \n",
    "    metrics = [met() for met in [MSSSIM, SSIM, NRMSE, partial(PSNR, data_range=1.)]]\n",
    "    for tgt, pred in zip(tgt_stack, pred_stack):\n",
    "        tgt = tgt[None]\n",
    "#         print('range', tgt.max(), tgt.min(), tgt.max() - tgt.min())\n",
    "        pred = pred[None]\n",
    "#         print(tgt.shape, pred.shape)\n",
    "        for met in metrics:\n",
    "            met.update((torch.from_numpy(pred), torch.from_numpy(tgt)))\n",
    "        \n",
    "    return [met.compute() for met in metrics]\n",
    "      \n",
    "for name, val in zip(metric_names, get_metrics(ls_target, ls_pred)):\n",
    "    print(f\"{name} ≈ {val}\")"
   ]
  },
  {
   "cell_type": "code",
   "execution_count": null,
   "metadata": {},
   "outputs": [],
   "source": [
    "for name, val in zip(metric_names, get_metrics(ls_target, rl_target)):\n",
    "    print(f\"{name} ≈ {val}\")"
   ]
  },
  {
   "cell_type": "code",
   "execution_count": null,
   "metadata": {},
   "outputs": [],
   "source": [
    "for name, val in zip(metric_names, get_metrics(ls_target, rl_pred)):\n",
    "    print(f\"{name} ≈ {val}\")"
   ]
  },
  {
   "cell_type": "code",
   "execution_count": null,
   "metadata": {},
   "outputs": [],
   "source": [
    "for name, val in zip(metric_names, get_metrics(rl_target, rl_pred)):\n",
    "    print(f\"{name} ≈ {val}\")"
   ]
  },
  {
   "cell_type": "code",
   "execution_count": null,
   "metadata": {},
   "outputs": [],
   "source": [
    "RL:\n",
    "0.894984170794487\n",
    "0.9646372944116592\n",
    "0.25966364635937444\n",
    "29.52416718006134"
   ]
  },
  {
   "cell_type": "code",
   "execution_count": null,
   "metadata": {},
   "outputs": [],
   "source": [
    "lala = 3\n",
    "len(f\"{lala:05}\")"
   ]
  },
  {
   "cell_type": "code",
   "execution_count": null,
   "metadata": {},
   "outputs": [],
   "source": []
  }
 ],
 "metadata": {
  "kernelspec": {
   "display_name": "Python 3",
   "language": "python",
   "name": "python3"
  },
  "language_info": {
   "codemirror_mode": {
    "name": "ipython",
    "version": 3
   },
   "file_extension": ".py",
   "mimetype": "text/x-python",
   "name": "python",
   "nbconvert_exporter": "python",
   "pygments_lexer": "ipython3",
   "version": "3.7.3"
  }
 },
 "nbformat": 4,
 "nbformat_minor": 2
}
