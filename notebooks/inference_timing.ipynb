{
 "cells": [
  {
   "cell_type": "code",
   "execution_count": null,
   "metadata": {},
   "outputs": [],
   "source": [
    "def f1(p, r):\n",
    "    return 2 * (p * r) / (p+r)\n",
    "    \n",
    "print(f1(.943, .945))\n",
    "print(f1(0.632926229466665, 0.5877095036192854))\n",
    "    "
   ]
  },
  {
   "cell_type": "code",
   "execution_count": null,
   "metadata": {},
   "outputs": [],
   "source": [
    "import pbs3"
   ]
  },
  {
   "cell_type": "code",
   "execution_count": null,
   "metadata": {},
   "outputs": [],
   "source": [
    "pbs3.pwd().stdout"
   ]
  },
  {
   "cell_type": "code",
   "execution_count": null,
   "metadata": {},
   "outputs": [],
   "source": [
    "import z5py\n",
    "import numpy\n",
    "import matplotlib.pyplot as plt\n",
    "\n",
    "from pathlib import Path"
   ]
  },
  {
   "cell_type": "code",
   "execution_count": null,
   "metadata": {},
   "outputs": [],
   "source": [
    "# fname = \"FishStaticLS_488nm_8f43dd13abf527f124bc0463bd5638ed2754dbe471a80a6c5867a675.n5\"\n",
    "# fname = \"F02-FishDynamicLF_561nm_TP00_15167be77831e5760090446ed0baf3e249d5be4f3bb356c45ae6e293.n5\"\n",
    "fname = \"F02-FishStaticLS_488nm_8f43dd13abf527f124bc0463bd5638ed2754dbe471a80a6c5867a675.n5\"\n",
    "# fname = \"FishStaticLS_488nm_714734d3bf750d081c8025513aea2eec2b56fad6cdbd24154174f70a.n5\"\n",
    "# fname = \"platyn_neuro-3_60e460ce9d1ec0e045b7d0d61ed73df0e687227d06453035ab4cdbdb.n5\"\n",
    "# fname = \"3_60e460ce9d1ec0e045b7d0d61ed73df0e687227d06453035ab4cdbdb.n5\"\n",
    "data_path = \"/g/kreshuk/beuttenm/repos/lensletnet/data/\"\n",
    "assert Path(data_path + fname).exists(), data_path + fname\n",
    "file = z5py.File(data_path + fname, mode=\"r\")\n",
    "x, y = file[\"x\"], file[\"y\"]"
   ]
  },
  {
   "cell_type": "code",
   "execution_count": null,
   "metadata": {},
   "outputs": [],
   "source": [
    "y_show = numpy.array(y[0, 0])[0, 0]\n",
    "print(x.shape, y.shape)"
   ]
  },
  {
   "cell_type": "code",
   "execution_count": null,
   "metadata": {},
   "outputs": [],
   "source": [
    "plt.figure(figsize=(20, 20))\n",
    "plt.imshow(y_show.max(axis=1))\n",
    "plt.show()\n",
    "plt.figure(figsize=(20, 20))\n",
    "plt.imshow(y_show.max(axis=2))\n",
    "plt.show()"
   ]
  },
  {
   "cell_type": "code",
   "execution_count": null,
   "metadata": {},
   "outputs": [],
   "source": [
    "import sys\n",
    "import numpy\n",
    "import torch\n",
    "from time import perf_counter\n",
    "\n",
    "sys.path.append(\"..\")\n",
    "from lnet.models import M13dout, M12dout\n",
    "from lnet.utils.transforms import Lightfield2Channel, channel_from_lightfield\n",
    "\n",
    "from torch.utils.data import DataLoader, Dataset"
   ]
  },
  {
   "cell_type": "code",
   "execution_count": null,
   "metadata": {},
   "outputs": [],
   "source": [
    "class TestDS(Dataset):\n",
    "    def __init__(self, *seqs):\n",
    "        self._len = len(seqs[0])\n",
    "        assert all([len(s) == len(self) for s in seqs])\n",
    "        self.seqs = seqs\n",
    "        \n",
    "    def __len__(self):\n",
    "        return self._len\n",
    "\n",
    "    def __getitem__(self, i: int):\n",
    "        return tuple([s[i] for s in self.seqs])"
   ]
  },
  {
   "cell_type": "code",
   "execution_count": null,
   "metadata": {},
   "outputs": [],
   "source": [
    "ds = TestDS(x, y)"
   ]
  },
  {
   "cell_type": "code",
   "execution_count": null,
   "metadata": {},
   "outputs": [],
   "source": [
    "start = perf_counter()\n",
    "x[10], y[10]\n",
    "print('dur', perf_counter() - start)"
   ]
  },
  {
   "cell_type": "code",
   "execution_count": null,
   "metadata": {},
   "outputs": [],
   "source": [
    "dl = DataLoader(ds, num_workers=20, pin_memory=True)"
   ]
  },
  {
   "cell_type": "code",
   "execution_count": null,
   "metadata": {},
   "outputs": [],
   "source": [
    "start = perf_counter()\n",
    "dl_iter = iter(dl)\n",
    "print('iter', perf_counter() - start)\n",
    "start = perf_counter()\n",
    "for xx, yy in dl:\n",
    "    xx.shape\n",
    "    break\n",
    "print('dur', perf_counter() - start)\n"
   ]
  },
  {
   "cell_type": "code",
   "execution_count": null,
   "metadata": {},
   "outputs": [],
   "source": [
    "torch.cuda.device_count()"
   ]
  },
  {
   "cell_type": "code",
   "execution_count": null,
   "metadata": {},
   "outputs": [],
   "source": [
    "nx = numpy.array([channel_from_lightfield(xx) for xx in x[:100]])"
   ]
  },
  {
   "cell_type": "code",
   "execution_count": null,
   "metadata": {},
   "outputs": [],
   "source": [
    "nx.nbytes / 1024 / 1024"
   ]
  },
  {
   "cell_type": "code",
   "execution_count": null,
   "metadata": {},
   "outputs": [],
   "source": [
    "model = M13dout(z_out=35, nnum=19)\n",
    "model.cuda()"
   ]
  },
  {
   "cell_type": "code",
   "execution_count": null,
   "metadata": {},
   "outputs": [],
   "source": [
    "tx = torch.from_numpy(nx)"
   ]
  },
  {
   "cell_type": "code",
   "execution_count": null,
   "metadata": {},
   "outputs": [],
   "source": [
    "tx = tx.cuda()"
   ]
  },
  {
   "cell_type": "code",
   "execution_count": null,
   "metadata": {},
   "outputs": [],
   "source": [
    "torch.cuda.empty_cache()"
   ]
  },
  {
   "cell_type": "code",
   "execution_count": null,
   "metadata": {},
   "outputs": [],
   "source": [
    "out = \"\"\n",
    "n = 1\n",
    "start = perf_counter()\n",
    "for xx in tx[:n]:\n",
    "    ipt = xx[None]\n",
    "    out += f\"{model(ipt)[0].shape}\\n\"\n",
    "    \n",
    "\n",
    "dur = perf_counter() - start\n",
    "print('dur', dur, dur / n)\n",
    "print(out)"
   ]
  },
  {
   "cell_type": "code",
   "execution_count": null,
   "metadata": {},
   "outputs": [],
   "source": [
    "model = M12dout(z_out=35, nnum=19)\n",
    "\n",
    "lf2c = Lightfield2Channel(nnum=19)\n",
    "\n",
    "tgt = numpy.array(y[0])[0]\n",
    "print('tgt', tgt.shape)\n",
    "\n",
    "ipt = numpy.array(x[0])[0]\n",
    "print('ipt', ipt.shape)\n",
    "ipt = lf2c.tensor_function(ipt)[None, ...]\n",
    "print('ipt', ipt.shape)\n",
    "ipt = torch.from_numpy(ipt)\n",
    "pred = model(ipt)"
   ]
  },
  {
   "cell_type": "code",
   "execution_count": null,
   "metadata": {},
   "outputs": [],
   "source": []
  },
  {
   "cell_type": "code",
   "execution_count": null,
   "metadata": {
    "scrolled": true
   },
   "outputs": [],
   "source": [
    "for xx, yy in zip(x, y):\n",
    "    print(xx.shape, yy.shape)"
   ]
  },
  {
   "cell_type": "code",
   "execution_count": null,
   "metadata": {},
   "outputs": [],
   "source": []
  }
 ],
 "metadata": {
  "kernelspec": {
   "display_name": "Python 3",
   "language": "python",
   "name": "python3"
  },
  "language_info": {
   "codemirror_mode": {
    "name": "ipython",
    "version": 3
   },
   "file_extension": ".py",
   "mimetype": "text/x-python",
   "name": "python",
   "nbconvert_exporter": "python",
   "pygments_lexer": "ipython3",
   "version": "3.7.3"
  }
 },
 "nbformat": 4,
 "nbformat_minor": 2
}
