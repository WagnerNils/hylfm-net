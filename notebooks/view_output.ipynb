{
 "cells": [
  {
   "cell_type": "code",
   "execution_count": null,
   "metadata": {
    "collapsed": true,
    "pycharm": {
     "is_executing": false
    }
   },
   "outputs": [],
   "source": [
    "%load_ext autoreload\n",
    "%autoreload 2\n",
    "\n",
    "import numpy\n",
    "import torch\n",
    "import torch.autograd\n",
    "from pathlib import Path\n",
    "from tifffile import imread, imsave\n",
    "from scipy.ndimage import affine_transform\n",
    "\n",
    "\n",
    "import matplotlib.pyplot as plt\n",
    "\n",
    "from lnet.config.dataset.registration import Heart_tightCrop_Transform, BDVTransform\n",
    "\n",
    "# K:\\LF_computed\\LenseLeNet_Microscope\\20191208_dynamic_static_heart\\fish2\\static\\staticHeartFOV\\completeSlideThrough_125steps_stepsize2\\2019-12-09_09.52.38\\stack_4_channel_1\\TP_00000\\LC"
   ]
  },
  {
   "cell_type": "code",
   "execution_count": null,
   "outputs": [],
   "source": [
    "# path = \"/g/kreshuk/LF_computed/LenseLeNet_Microscope/20191208_dynamic_static_heart/fish2/static/staticHeartFOV/completeSlideThrough_125steps_stepsize2/2019-12-09_09.52.38/stack_4_channel_1/TP_00000/LC/Cam_Left_registered_copy.tif\"\n"
   ],
   "metadata": {
    "collapsed": false,
    "pycharm": {
     "name": "#%%\n",
     "is_executing": false
    }
   }
  },
  {
   "cell_type": "code",
   "execution_count": null,
   "outputs": [],
   "source": [
    "# img = imread(path)"
   ],
   "metadata": {
    "collapsed": false,
    "pycharm": {
     "name": "#%%\n",
     "is_executing": false
    }
   }
  },
  {
   "cell_type": "code",
   "execution_count": null,
   "outputs": [],
   "source": [
    "# out_path = \"/g/kreshuk/LF_computed/LenseLeNet_Microscope/20191208_dynamic_static_heart/fish2/static/staticHeartFOV/completeSlideThrough_125steps_stepsize2/2019-12-09_09.52.38/stack_4_channel_1/TP_00000/LC/Cam_Left_registered_compressed.tif\""
   ],
   "metadata": {
    "collapsed": false,
    "pycharm": {
     "name": "#%%\n",
     "is_executing": false
    }
   }
  },
  {
   "cell_type": "code",
   "execution_count": null,
   "outputs": [],
   "source": [
    "# imsave(out_path, img, compress=6, bigtiff=True)"
   ],
   "metadata": {
    "collapsed": false,
    "pycharm": {
     "name": "#%%\n",
     "is_executing": false
    }
   }
  },
  {
   "cell_type": "code",
   "execution_count": null,
   "outputs": [],
   "source": [
    "# img_comp = imread(out_path)"
   ],
   "metadata": {
    "collapsed": false,
    "pycharm": {
     "name": "#%%\n",
     "is_executing": false
    }
   }
  },
  {
   "cell_type": "code",
   "execution_count": null,
   "outputs": [],
   "source": [
    "# for i in range(1, 5, 2):\n",
    "#     out_path = f\"/g/kreshuk/LF_computed/LenseLeNet_Microscope/20191208_dynamic_static_heart/fish2/static/staticHeartFOV/completeSlideThrough_125steps_stepsize2/2019-12-09_09.52.38/stack_4_channel_1/TP_00000/LC/Cam_Left_registered_compressed_{i}.tif\"\n",
    "#     imsave(out_path, img, compress=i, bigtiff=True)"
   ],
   "metadata": {
    "collapsed": false,
    "pycharm": {
     "name": "#%%\n",
     "is_executing": false
    }
   }
  },
  {
   "cell_type": "code",
   "execution_count": null,
   "outputs": [],
   "source": [
    "ipt_path = \"/g/kreshuk/LF_partially_restored/LenseLeNet_Microscope/20191208_dynamic_static_heart/fish1/static/Heart_tightCrop/centered_5steps_stepsize8/2019-12-09_02.16.30/stack_4_channel_1/TP_00000/LC/Cam_Left.tif\"\n",
    "# ipt_path = \"/g/kreshuk/LF_partially_restored/LenseLeNet_Microscope/20191208_dynamic_static_heart/beads/after_fish2/definitelyNotMoving/Heart_tightCrop/200msExp/2019-12-09_22.23.27/Cam_Left.tif\"\n",
    "# ipt_path = \"/g/kreshuk/LF_partially_restored/LenseLeNet_Microscope/20191208_dynamic_static_heart/beads/after_fish2/definitelyNotMoving/Heart_tightCrop/200msExp/2019-12-09_22.23.27/stack_1_channel_1/TP_00000/LC/Cam_Left.tif\"\n",
    "\n",
    "expected_path = \"/g/kreshuk/LF_partially_restored/LenseLeNet_Microscope/20191208_dynamic_static_heart/fish1/static/Heart_tightCrop/centered_5steps_stepsize8/2019-12-09_02.16.30/stack_4_channel_1/TP_00000/LC/Cam_Left_registered.tif\"\n",
    "# expected_path = \"/g/kreshuk/LF_partially_restored/LenseLeNet_Microscope/20191208_dynamic_static_heart/beads/after_fish2/definitelyNotMoving/Heart_tightCrop/200msExp/2019-12-09_22.23.27/Cam_Left_registered.tif\"\n",
    "# expected_path = \"/g/kreshuk/LF_partially_restored/LenseLeNet_Microscope/20191208_dynamic_static_heart/beads/after_fish2/definitelyNotMoving/Heart_tightCrop/200msExp/2019-12-09_22.23.27/stack_1_channel_1/TP_00000/LC/Cam_Left_registered.tif\"\n",
    "\n",
    "ipt = imread(ipt_path)\n",
    "expected = imread(expected_path)\n",
    "tmp = (Path() / \"tmp/\").resolve()\n",
    "\n",
    "print(ipt.shape)\n",
    "print(expected.shape)"
   ],
   "metadata": {
    "collapsed": false,
    "pycharm": {
     "name": "#%%\n",
     "is_executing": false
    }
   }
  },
  {
   "cell_type": "code",
   "execution_count": null,
   "outputs": [],
   "source": [
    "\n",
    "\n",
    "plt.imshow(ipt.max(axis=0))\n"
   ],
   "metadata": {
    "collapsed": false,
    "pycharm": {
     "name": "#%%\n",
     "is_executing": false
    }
   }
  },
  {
   "cell_type": "code",
   "execution_count": null,
   "outputs": [],
   "source": [
    "plt.imshow(expected.max(axis=0))"
   ],
   "metadata": {
    "collapsed": false,
    "pycharm": {
     "name": "#%%\n",
     "is_executing": false
    }
   }
  },
  {
   "cell_type": "code",
   "execution_count": null,
   "outputs": [],
   "source": [
    "print(expected.shape, expected.min(), expected.max(), expected.mean())"
   ],
   "metadata": {
    "collapsed": false,
    "pycharm": {
     "name": "#%%\n",
     "is_executing": false
    }
   }
  },
  {
   "cell_type": "code",
   "execution_count": null,
   "outputs": [],
   "source": [
    "print(ipt.shape)\n",
    "print(expected.shape)\n",
    "out_shape = numpy.array(expected.shape)\n",
    "\n",
    "# out = Heart_tightCrop_Transform.apply(ipt.astype(\"float\"))  # (241, 1451, 1651) 0.0 18805.581943353336 160.23466656346213\n",
    "\n",
    "# trf = Heart_tightCrop_Transform(output_shape=out_shape, order=1)\n",
    "trf = Heart_tightCrop_Transform(output_shape=tuple(out_shape), order=0)\n",
    "# def trf(img):\n",
    "#     affine_matrix = BDVTransform.concat_affine_matrices(\n",
    "#             [BDVTransform.bdv_trafo_to_affine_matrix(at) for at in Heart_tightCrop_Transform.affine_transforms]\n",
    "#         )\n",
    "#     return affine_transform(img, numpy.linalg.inv(affine_matrix), output_shape=out_shape, order=1)\n",
    "    \n",
    "# out = trf.apply(ipt.astype(\"float\"))\n",
    "out = trf.forward(torch.from_numpy(ipt.astype(\"float\")[None, None, ...])).numpy()[0, 0]\n",
    "print(out.shape, out.min(), out.max(), out.mean())"
   ],
   "metadata": {
    "collapsed": false,
    "pycharm": {
     "name": "#%%\n",
     "is_executing": false
    }
   }
  },
  {
   "cell_type": "code",
   "execution_count": null,
   "outputs": [],
   "source": [
    "\n",
    "# needs_grad = torch.ones((1,), requires_grad=True)\n",
    "gpu_needs_grad = torch.ones((1,), requires_grad=True, device=torch.device(\"cuda:0\"))\n",
    "needs_grad = gpu_needs_grad.to(torch.device(\"cpu\"))\n",
    "# mini.cuda()\n",
    "# needs_grad = needs_grad.cuda()\n",
    "# needs_grad.cuda()\n",
    "# needs_grad2 = torch.ones((1,), requires_grad=True)\n",
    "# small_ipt = torch.from_numpy(ipt[100:149, :20, :20].astype(\"float\")[None, None, ...]).cuda()\n",
    "# grad_out = (small_ipt + needs_grad).sum()#.to(torch.device(\"cpu\")) + needs_grad2\n",
    "\n",
    "grad_out = needs_grad * 2\n",
    "# grad_out = needs_grad * 2\n",
    "print(\"out on cuda\", grad_out.is_cuda)"
   ],
   "metadata": {
    "collapsed": false,
    "pycharm": {
     "name": "#%%\n",
     "is_executing": false
    }
   }
  },
  {
   "cell_type": "code",
   "execution_count": null,
   "outputs": [],
   "source": [
    "print(needs_grad.requires_grad, needs_grad.grad)\n",
    "print(gpu_needs_grad.requires_grad, gpu_needs_grad.grad)\n",
    "# print(needs_grad2.grad)\n",
    "grad_out.backward()\n",
    "print(needs_grad.requires_grad, needs_grad.grad)\n",
    "print(gpu_needs_grad.requires_grad, gpu_needs_grad.grad)\n",
    "# print(needs_grad2.grad)"
   ],
   "metadata": {
    "collapsed": false,
    "pycharm": {
     "name": "#%%\n",
     "is_executing": false
    }
   }
  },
  {
   "cell_type": "code",
   "execution_count": null,
   "outputs": [],
   "source": [
    "# print(needs_grad.requires_grad, needs_grad.is_cuda)\n",
    "# print(needs_grad.to(torch.device(\"cpu\")).requires_grad)\n",
    "# print(needs_grad.requires_grad, needs_grad.is_cuda)"
   ],
   "metadata": {
    "collapsed": false,
    "pycharm": {
     "name": "#%%\n"
    }
   }
  },
  {
   "cell_type": "code",
   "execution_count": null,
   "outputs": [],
   "source": [],
   "metadata": {
    "collapsed": false,
    "pycharm": {
     "name": "#%%\n",
     "is_executing": false
    }
   }
  },
  {
   "cell_type": "code",
   "execution_count": null,
   "outputs": [],
   "source": [
    "\n",
    "small_ipt = ipt[100:149, :20, :20]\n",
    "print(small_ipt.shape)\n",
    "out_shape = numpy.array([s for s in small_ipt.shape])\n",
    "\n",
    "# out = Heart_tightCrop_Transform.apply(ipt.astype(\"float\"))  # (241, 1451, 1651) 0.0 18805.581943353336 160.23466656346213\n",
    "\n",
    "# trf = Heart_tightCrop_Transform(output_shape=out_shape, order=1)\n",
    "trf = Heart_tightCrop_Transform(output_shape=tuple(out_shape), order=0)\n",
    "# trf.cuda()\n",
    "# def trf(img):\n",
    "#     affine_matrix = BDVTransform.concat_affine_matrices(\n",
    "#             [BDVTransform.bdv_trafo_to_affine_matrix(at) for at in Heart_tightCrop_Transform.affine_transforms]\n",
    "#         )\n",
    "#     return affine_transform(img, numpy.linalg.inv(affine_matrix), output_shape=out_shape, order=1)\n",
    "    \n",
    "# out = trf.apply(ipt.astype(\"float\"))\n",
    "small_torch_ipt = torch.from_numpy(ipt.astype(\"float\")[None, None, ...])\n",
    "small_cuda_ipt = small_torch_ipt.cuda()\n",
    "# small_out = trf.apply(small_torch_ipt[0, 0].numpy())\n",
    "# small_out = trf.forward(small_torch_ipt).numpy()[0, 0]\n",
    "small_out = trf.forward(small_cuda_ipt).cpu().numpy()[0, 0]\n",
    "print(small_out.shape, small_out.min(), small_out.max(), small_out.mean())"
   ],
   "metadata": {
    "collapsed": false,
    "pycharm": {
     "name": "#%%\n"
    }
   }
  },
  {
   "cell_type": "code",
   "execution_count": null,
   "outputs": [],
   "source": [
    "plt.imshow(small_out.max(axis=0))\n",
    "plt.colorbar()"
   ],
   "metadata": {
    "collapsed": false,
    "pycharm": {
     "name": "#%%\n",
     "is_executing": false
    }
   }
  },
  {
   "cell_type": "code",
   "execution_count": null,
   "outputs": [],
   "source": [
    "# torch comparison\n",
    "plt.imshow(out.max(axis=0))\n",
    "plt.colorbar()"
   ],
   "metadata": {
    "collapsed": false,
    "pycharm": {
     "name": "#%%\n",
     "is_executing": false
    }
   }
  },
  {
   "cell_type": "code",
   "execution_count": null,
   "outputs": [],
   "source": [
    "plt.imshow(out.max(axis=0) - expected.max(axis=0))\n",
    "plt.colorbar()"
   ],
   "metadata": {
    "collapsed": false,
    "pycharm": {
     "name": "#%%\n",
     "is_executing": false
    }
   }
  },
  {
   "cell_type": "code",
   "execution_count": null,
   "outputs": [],
   "source": [
    "# failed torch comparison\n",
    "plt.imshow(out.max(axis=0))\n",
    "plt.colorbar()"
   ],
   "metadata": {
    "collapsed": false,
    "pycharm": {
     "name": "#%%\n",
     "is_executing": false
    }
   }
  },
  {
   "cell_type": "code",
   "execution_count": null,
   "outputs": [],
   "source": [
    "plt.imshow(out.max(axis=0) - expected.max(axis=0))\n",
    "plt.colorbar()"
   ],
   "metadata": {
    "collapsed": false,
    "pycharm": {
     "name": "#%%\n",
     "is_executing": false
    }
   }
  },
  {
   "cell_type": "code",
   "execution_count": null,
   "outputs": [],
   "source": [
    "# (838, 1273, 1463) 0.0 15518.998620498136 62.415287760082315\n",
    "# scipy comparison\n",
    "plt.imshow(out.max(axis=0))\n",
    "plt.colorbar()"
   ],
   "metadata": {
    "collapsed": false,
    "pycharm": {
     "name": "#%%\n",
     "is_executing": false
    }
   }
  },
  {
   "cell_type": "code",
   "execution_count": null,
   "outputs": [],
   "source": [
    "plt.imshow(out.max(axis=0) - expected.max(axis=0))\n",
    "plt.colorbar()"
   ],
   "metadata": {
    "collapsed": false,
    "pycharm": {
     "name": "#%%\n",
     "is_executing": false
    }
   }
  },
  {
   "cell_type": "code",
   "execution_count": null,
   "outputs": [],
   "source": [
    "print('ok')"
   ],
   "metadata": {
    "collapsed": false,
    "pycharm": {
     "name": "#%%\n",
     "is_executing": false
    }
   }
  },
  {
   "cell_type": "code",
   "execution_count": null,
   "outputs": [],
   "source": [
    "python transformed (max proj) and diff of pyton trf and tischi-trf\n",
    "# floatout = out.astype(\"float\")\n",
    "# floatexpected = expected.astype(\"float\")\n",
    "# floatdiff = floatout - floatexpected\n",
    "# \n",
    "# print(floatdiff.max())"
   ],
   "metadata": {
    "collapsed": false,
    "pycharm": {
     "name": "#%%\n",
     "is_executing": false
    }
   }
  },
  {
   "cell_type": "code",
   "execution_count": null,
   "outputs": [],
   "source": [
    "# print(out.dtype, expected.dtype, diff.dtype)"
   ],
   "metadata": {
    "collapsed": false,
    "pycharm": {
     "name": "#%%\n",
     "is_executing": false
    }
   }
  },
  {
   "cell_type": "code",
   "execution_count": null,
   "outputs": [],
   "source": [
    "imsave(tmp / \"expected.tif\", expected[:100])"
   ],
   "metadata": {
    "collapsed": false,
    "pycharm": {
     "name": "#%%\n",
     "is_executing": false
    }
   }
  },
  {
   "cell_type": "code",
   "execution_count": null,
   "outputs": [],
   "source": [
    "imsave(tmp / \"out.tif\", out[:100].astype(\"uint16\"))\n"
   ],
   "metadata": {
    "collapsed": false,
    "pycharm": {
     "name": "#%%\n",
     "is_executing": false
    }
   }
  },
  {
   "cell_type": "code",
   "execution_count": null,
   "outputs": [],
   "source": [
    "print(out[400:420].min(), out[400:420].max())\n"
   ],
   "metadata": {
    "collapsed": false,
    "pycharm": {
     "name": "#%%\n",
     "is_executing": false
    }
   }
  },
  {
   "cell_type": "code",
   "execution_count": null,
   "outputs": [],
   "source": [
    "print((out > 0).sum() / numpy.prod(numpy.array(out.shape)))"
   ],
   "metadata": {
    "collapsed": false,
    "pycharm": {
     "name": "#%%\n",
     "is_executing": false
    }
   }
  },
  {
   "cell_type": "code",
   "execution_count": null,
   "outputs": [],
   "source": [
    "\n"
   ],
   "metadata": {
    "collapsed": false,
    "pycharm": {
     "name": "#%%\n"
    }
   }
  }
 ],
 "metadata": {
  "kernelspec": {
   "display_name": "Python 3",
   "language": "python",
   "name": "python3"
  },
  "language_info": {
   "codemirror_mode": {
    "name": "ipython",
    "version": 2
   },
   "file_extension": ".py",
   "mimetype": "text/x-python",
   "name": "python",
   "nbconvert_exporter": "python",
   "pygments_lexer": "ipython2",
   "version": "2.7.6"
  },
  "pycharm": {
   "stem_cell": {
    "cell_type": "raw",
    "source": [],
    "metadata": {
     "collapsed": false
    }
   }
  }
 },
 "nbformat": 4,
 "nbformat_minor": 0
}