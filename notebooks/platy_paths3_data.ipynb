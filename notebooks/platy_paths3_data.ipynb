{
 "cells": [
  {
   "cell_type": "code",
   "execution_count": null,
   "metadata": {
    "pycharm": {
     "is_executing": false
    }
   },
   "outputs": [],
   "source": [
    "import numpy\n",
    "import matplotlib\n",
    "import matplotlib.pyplot as plt\n",
    "\n",
    "from pathlib import Path\n",
    "from scipy.ndimage import gaussian_filter\n",
    "from scipy.stats import pearsonr\n",
    "from tifffile import imread\n",
    "from time import perf_counter\n",
    "\n",
    "\n",
    "import sys\n",
    "sys.path.append(\"/g/kreshuk/beuttenm/repos/lnet\")\n",
    "from lnet.utils.plotting import turbo_colormap "
   ]
  },
  {
   "cell_type": "code",
   "execution_count": null,
   "metadata": {
    "pycharm": {
     "is_executing": false,
     "name": "#%%\n"
    }
   },
   "outputs": [],
   "source": [
    "def get_raw_data(name):\n",
    "    paths = sorted(list(Path(name).glob(\"*.tif\")))\n",
    "    data = []\n",
    "    for path in paths:\n",
    "        data.append((imread(path.as_posix()) / numpy.iinfo(numpy.uint16).max).astype(numpy.float32))\n",
    "    \n",
    "    return numpy.asarray(data)"
   ]
  },
  {
   "cell_type": "code",
   "execution_count": null,
   "metadata": {
    "pycharm": {
     "is_executing": false,
     "name": "#%%\n"
    }
   },
   "outputs": [],
   "source": [
    "pred = get_raw_data(\"/g/kreshuk/beuttenm/repos/lensletnet/logs/platy/3-100-500/1/19-09-03_09-14_63d6439_m12dout-bc/result/test/prediction\")"
   ]
  },
  {
   "cell_type": "code",
   "execution_count": null,
   "metadata": {
    "pycharm": {
     "is_executing": false,
     "name": "#%%\n"
    }
   },
   "outputs": [],
   "source": [
    "print(pred.shape)"
   ]
  },
  {
   "cell_type": "code",
   "execution_count": null,
   "metadata": {
    "pycharm": {
     "is_executing": false,
     "name": "#%%\n"
    }
   },
   "outputs": [],
   "source": [
    "tgt = get_raw_data(\"/g/kreshuk/beuttenm/repos/lensletnet/logs/platy/3-100-500/1/19-09-03_09-14_63d6439_m12dout-bc/result/test/target\")"
   ]
  },
  {
   "cell_type": "code",
   "execution_count": null,
   "metadata": {
    "pycharm": {
     "is_executing": false,
     "name": "#%%\n"
    }
   },
   "outputs": [],
   "source": [
    "print(tgt.shape)"
   ]
  },
  {
   "cell_type": "code",
   "execution_count": null,
   "metadata": {
    "pycharm": {
     "is_executing": false,
     "name": "#%%\n"
    },
    "scrolled": true
   },
   "outputs": [],
   "source": [
    "plt.imshow(pred[0 ,0].max(0))"
   ]
  },
  {
   "cell_type": "code",
   "execution_count": null,
   "metadata": {
    "pycharm": {
     "is_executing": false,
     "name": "#%%\n"
    }
   },
   "outputs": [],
   "source": [
    "plt.imshow(tgt[0 ,0].max(0))"
   ]
  },
  {
   "cell_type": "code",
   "execution_count": null,
   "metadata": {
    "pycharm": {
     "is_executing": false,
     "name": "#%%\n"
    }
   },
   "outputs": [],
   "source": [
    "def bin(data):\n",
    "    shape = data.shape\n",
    "    assert len(shape) == 5\n",
    "    assert shape[1] == 1\n",
    "    assert all([os % 10 == 0 for os in shape[3:]])\n",
    "    data = data[:, 0]\n",
    "    \n",
    "    out_shape = numpy.asarray(data.shape)\n",
    "    out_shape[0:2] -= 2\n",
    "    out_shape[2:] //= 10\n",
    "    assert all([os > 0 for os in out_shape])\n",
    "    \n",
    "    step = 10\n",
    "    xy = numpy.mean(numpy.stack([data[:, :, x0::step, y0::step] for x0 in range(step) for y0 in range(step)]), axis=0)\n",
    "    z = numpy.sum(numpy.stack([0.25* xy[:, :-2], 0.5 * xy[:, 1:-1], 0.25 * xy[:, 2:]]), axis=0)\n",
    "    t = numpy.sum(numpy.stack([0.25* z[:-2], 0.5 * z[1:-1], 0.25 * z[2:]]), axis=0)\n",
    "    \n",
    "    return t"
   ]
  },
  {
   "cell_type": "code",
   "execution_count": null,
   "metadata": {
    "pycharm": {
     "is_executing": false,
     "name": "#%%\n"
    }
   },
   "outputs": [],
   "source": [
    "pred_binned = bin(pred[:, :, :, 30:, 76:])\n",
    "print('shape', pred_binned.shape)\n",
    "plt.imshow(pred_binned[0].max(axis=0))"
   ]
  },
  {
   "cell_type": "code",
   "execution_count": null,
   "metadata": {},
   "outputs": [],
   "source": [
    "plt.imshow(tgt[: ,0, :, 30:, 76:].max(0).max(0), cmap=turbo_colormap)\n",
    "plt.colorbar()\n",
    "plt.savefig(\"test.svg\")"
   ]
  },
  {
   "cell_type": "code",
   "execution_count": null,
   "metadata": {},
   "outputs": [],
   "source": [
    "plt.imshow(tgt[: ,0, :, 30:, 76:].std(0).max(0), cmap=turbo_colormap)\n",
    "plt.colorbar()\n",
    "# plt.savefig(\"/g/kreshuk/beuttenm/Documents/for_oc/std.svg\")"
   ]
  },
  {
   "cell_type": "code",
   "execution_count": null,
   "metadata": {
    "pycharm": {
     "is_executing": false,
     "name": "#%%\n"
    }
   },
   "outputs": [],
   "source": [
    "tgt_binned = bin(tgt[:, :, :, 30:, 76:])\n",
    "tgt_binned.shape"
   ]
  },
  {
   "cell_type": "code",
   "execution_count": null,
   "metadata": {
    "pycharm": {
     "is_executing": false,
     "name": "#%%\n"
    }
   },
   "outputs": [],
   "source": [
    "roi = (slice(None), 13, 10, 10)\n",
    "print(pearsonr(pred_binned[roi], tgt_binned[roi]))"
   ]
  },
  {
   "cell_type": "code",
   "execution_count": null,
   "metadata": {
    "pycharm": {
     "is_executing": false,
     "name": "#%%\n"
    }
   },
   "outputs": [],
   "source": [
    "start = perf_counter()\n",
    "prs = numpy.empty(tgt_binned.shape[1:], dtype=numpy.float32)\n",
    "for z in range(tgt_binned.shape[1]):\n",
    "    for y in range(tgt_binned.shape[2]):\n",
    "        for x in range(tgt_binned.shape[3]):\n",
    "            prs[z, y, x] = pearsonr(pred_binned[:, z, y, x], tgt_binned[:, z, y, x])[0]\n",
    "\n",
    "print(perf_counter() - start)"
   ]
  },
  {
   "cell_type": "code",
   "execution_count": null,
   "metadata": {},
   "outputs": [],
   "source": [
    "# Save Data\n",
    "numpy.save(\"pred_binned\", pred_binned)\n",
    "numpy.save(\"tgt_binned\", tgt_binned)\n",
    "numpy.save(\"prs\", prs)"
   ]
  },
  {
   "cell_type": "code",
   "execution_count": null,
   "metadata": {},
   "outputs": [],
   "source": [
    "start = perf_counter()\n",
    "prs300 = numpy.empty(tgt_binned.shape[1:], dtype=numpy.float32)\n",
    "for z in range(tgt_binned.shape[1]):\n",
    "    for y in range(tgt_binned.shape[2]):\n",
    "        for x in range(tgt_binned.shape[3]):\n",
    "            prs300[z, y, x] = pearsonr(pred_binned[:300, z, y, x], tgt_binned[:300, z, y, x])[0]\n",
    "\n",
    "print(perf_counter() - start)"
   ]
  },
  {
   "cell_type": "code",
   "execution_count": null,
   "metadata": {
    "pycharm": {
     "is_executing": false,
     "name": "#%%\n"
    }
   },
   "outputs": [],
   "source": [
    "plt.imshow(prs[13])\n",
    "plt.colorbar()"
   ]
  },
  {
   "cell_type": "code",
   "execution_count": null,
   "metadata": {
    "pycharm": {
     "is_executing": false,
     "name": "#%%\n"
    }
   },
   "outputs": [],
   "source": [
    "prs.max()"
   ]
  },
  {
   "cell_type": "code",
   "execution_count": null,
   "metadata": {},
   "outputs": [],
   "source": [
    "prs300.max()"
   ]
  },
  {
   "cell_type": "code",
   "execution_count": null,
   "metadata": {
    "pycharm": {
     "is_executing": false,
     "name": "#%%\n"
    }
   },
   "outputs": [],
   "source": [
    "stds = tgt_binned.std(axis=0)\n",
    "stds.shape"
   ]
  },
  {
   "cell_type": "code",
   "execution_count": null,
   "metadata": {},
   "outputs": [],
   "source": [
    "stds.max()"
   ]
  },
  {
   "cell_type": "code",
   "execution_count": null,
   "metadata": {},
   "outputs": [],
   "source": [
    "numpy.percentile(stds, 80)"
   ]
  },
  {
   "cell_type": "code",
   "execution_count": null,
   "metadata": {},
   "outputs": [],
   "source": [
    "numpy.median(stds)"
   ]
  },
  {
   "cell_type": "code",
   "execution_count": null,
   "metadata": {
    "pycharm": {
     "is_executing": false,
     "name": "#%%\n"
    }
   },
   "outputs": [],
   "source": [
    "stds.mean()"
   ]
  },
  {
   "cell_type": "code",
   "execution_count": null,
   "metadata": {
    "pycharm": {
     "is_executing": false,
     "name": "#%%\n"
    }
   },
   "outputs": [],
   "source": [
    "mask = stds > numpy.percentile(stds, 80)\n",
    "masked_prs = numpy.array(prs)\n",
    "masked_prs[~mask] = numpy.nan\n",
    "print('mean masked pr', numpy.nanmean(masked_prs))\n",
    "plt.imshow(mask.max(axis=0))"
   ]
  },
  {
   "cell_type": "code",
   "execution_count": null,
   "metadata": {
    "pycharm": {
     "is_executing": false,
     "name": "#%%\n"
    }
   },
   "outputs": [],
   "source": [
    "msum = mask.sum()\n",
    "print(msum, msum / numpy.prod(mask.shape))"
   ]
  },
  {
   "cell_type": "code",
   "execution_count": null,
   "metadata": {
    "pycharm": {
     "is_executing": false,
     "name": "#%%\n"
    }
   },
   "outputs": [],
   "source": [
    "show = numpy.array(tgt_binned[0])\n",
    "show[~mask] = numpy.nan\n",
    "plt.imshow(numpy.nanmax(show, axis=0))"
   ]
  },
  {
   "cell_type": "code",
   "execution_count": null,
   "metadata": {
    "pycharm": {
     "is_executing": false,
     "name": "#%%\n"
    }
   },
   "outputs": [],
   "source": [
    "def plot_masked(data, mask):\n",
    "    data = numpy.array(data)\n",
    "    data[~mask] = numpy.nan\n",
    "    plt.imshow(numpy.nanmax(data, axis=0))\n",
    "    plt.colorbar()"
   ]
  },
  {
   "cell_type": "code",
   "execution_count": null,
   "metadata": {
    "pycharm": {
     "is_executing": false,
     "name": "#%%\n"
    }
   },
   "outputs": [],
   "source": [
    "plot_masked(prs, mask)\n",
    "plt.show()"
   ]
  },
  {
   "cell_type": "code",
   "execution_count": null,
   "metadata": {
    "pycharm": {
     "is_executing": false,
     "name": "#%%\n"
    }
   },
   "outputs": [],
   "source": [
    "def plot_ts(tgt, pred, name=\"\"):\n",
    "    fig, ax_tgt = plt.subplots()\n",
    "    ax_pred = ax_tgt.twinx()\n",
    "    ax_tgt.set_xlabel(\"time [s]\")\n",
    "    ax_tgt.set_ylabel(\"RL reconstruction [$\\Delta F/F_0$]\")\n",
    "    ax_pred.set_ylabel(\"Network prediction [$\\Delta F/F_0$]\")\n",
    "    \n",
    "    t = numpy.arange(tgt.shape[0]) * 0.11\n",
    "    tgt = numpy.array(tgt)\n",
    "    pred = numpy.array(pred)\n",
    "    add_label = \"\"\n",
    "    lns = ax_tgt.plot(t, tgt, color=\"r\", label=\"RL reconstruction\" + add_label)\n",
    "    lns += ax_pred.plot(t, pred, color=\"b\", label=\"Network prediction\" + add_label) # + f\" {pcoeff:.2f}\n",
    "\n",
    "    labs = [l.get_label() for l in lns]\n",
    "    ax_tgt.legend(lns, labs)\n",
    "    if name:\n",
    "        plt.savefig(f\"/g/kreshuk/beuttenm/Documents/for_oc/{name}.pgf\")\n",
    "    \n",
    "    plt.show()\n",
    "    \n",
    "    \n",
    "def save_idx(idx, name):\n",
    "    t_max = None\n",
    "    plot_ts(tgt_binned[:, mask][:t_max, idx], pred_binned[:, mask][:t_max, idx], name=name)"
   ]
  },
  {
   "cell_type": "code",
   "execution_count": null,
   "metadata": {},
   "outputs": [],
   "source": [
    "# prsidx = numpy.where(prs[mask])[0]\n",
    "numpy.argsort(prs[mask])\n",
    "idxs = numpy.argsort(prs[mask])[::-1]"
   ]
  },
  {
   "cell_type": "code",
   "execution_count": null,
   "metadata": {},
   "outputs": [],
   "source": [
    "save_idx(idxs[-1], name=\"out\")\n",
    "idxs[-1]"
   ]
  },
  {
   "cell_type": "code",
   "execution_count": null,
   "metadata": {
    "scrolled": true
   },
   "outputs": [],
   "source": [
    "for i in idx[:10]:\n",
    "    #     if tgt_binned[:, mask][100, i] < .2:\n",
    "    #         continue \n",
    "\n",
    "    print(i)\n",
    "    save_idx(i, name=\"out\")"
   ]
  },
  {
   "cell_type": "code",
   "execution_count": null,
   "metadata": {
    "pycharm": {
     "is_executing": false,
     "name": "#%%\n"
    },
    "scrolled": true
   },
   "outputs": [],
   "source": [
    "for idx in range(0, 1000, 100):\n",
    "    plot_ts(tgt_binned[:, mask][:, idx], pred_binned[:, mask][:, idx])"
   ]
  },
  {
   "cell_type": "code",
   "execution_count": null,
   "metadata": {
    "pycharm": {
     "is_executing": false,
     "name": "#%%\n"
    },
    "scrolled": true
   },
   "outputs": [],
   "source": [
    "for idx in range(1, 1000, 100):\n",
    "    plot_ts(tgt_binned[:, mask][:, idx], pred_binned[:, mask][:, idx])"
   ]
  },
  {
   "cell_type": "code",
   "execution_count": null,
   "metadata": {
    "pycharm": {
     "is_executing": false,
     "name": "#%%\n"
    },
    "scrolled": true
   },
   "outputs": [],
   "source": [
    "for idx in range(2, 1000, 100):\n",
    "    plot_ts(tgt_binned[:, mask][:, idx], pred_binned[:, mask][:, idx])"
   ]
  },
  {
   "cell_type": "code",
   "execution_count": null,
   "metadata": {
    "pycharm": {
     "is_executing": false,
     "name": "#%%\n"
    },
    "scrolled": true
   },
   "outputs": [],
   "source": [
    "t_max = 300\n",
    "cnt = 0\n",
    "for idx in range(0, 1000, 10):\n",
    "    selected_tgt = tgt_binned[:t_max, mask][:, idx]\n",
    "    selected_pred = pred_binned[:t_max, mask][:, idx]\n",
    "    \n",
    "    if selected_tgt[100] < .2:\n",
    "        continue\n",
    "\n",
    "    cnt += 1\n",
    "    if cnt > 10: \n",
    "        break\n",
    "    plot_ts(selected_tgt, selected_pred)"
   ]
  },
  {
   "cell_type": "code",
   "execution_count": null,
   "metadata": {
    "scrolled": true
   },
   "outputs": [],
   "source": [
    "t_max = 400\n",
    "cnt = 0\n",
    "for idx in range(0, 1000, 10):\n",
    "    selected_tgt = tgt_binned[:t_max, mask][:, idx]\n",
    "    selected_pred = pred_binned[:t_max, mask][:, idx]\n",
    "    \n",
    "    if selected_tgt[100] < .2:\n",
    "        continue\n",
    "\n",
    "    cnt += 1\n",
    "    if cnt > 10: \n",
    "        break\n",
    "    plot_ts(selected_tgt, selected_pred)"
   ]
  },
  {
   "cell_type": "code",
   "execution_count": null,
   "metadata": {
    "pycharm": {
     "is_executing": false,
     "name": "#%%\n"
    }
   },
   "outputs": [],
   "source": []
  },
  {
   "cell_type": "code",
   "execution_count": null,
   "metadata": {
    "pycharm": {
     "is_executing": false,
     "name": "#%%\n"
    }
   },
   "outputs": [],
   "source": [
    "psnr"
   ]
  },
  {
   "cell_type": "code",
   "execution_count": null,
   "metadata": {
    "pycharm": {
     "is_executing": false,
     "name": "#%%\n"
    }
   },
   "outputs": [],
   "source": [
    "def plot_hist(prs):\n",
    "    fig, ax = plt.subplots()\n",
    "    ax.yaxis.tick_right()\n",
    "    ax.yaxis.set_label_position(\"right\")\n",
    "    ax.set_xlim(xmin=0)\n",
    "    ax.set_xlabel(\"Pearson Correlation Coefficient\")\n",
    "    ax.set_ylabel(\"counts\")\n",
    "\n",
    "    plt.hist(prs, bins=25)\n",
    "    \n",
    "    "
   ]
  },
  {
   "cell_type": "code",
   "execution_count": null,
   "metadata": {
    "pycharm": {
     "is_executing": false,
     "name": "#%%\n"
    }
   },
   "outputs": [],
   "source": [
    "plot_hist(prs[mask])\n",
    "plt.savefig(\"hist.svg\")"
   ]
  },
  {
   "cell_type": "code",
   "execution_count": null,
   "metadata": {},
   "outputs": [],
   "source": [
    "prs[mask].mean()"
   ]
  },
  {
   "cell_type": "code",
   "execution_count": null,
   "metadata": {
    "pycharm": {
     "is_executing": false,
     "name": "#%%\n"
    }
   },
   "outputs": [],
   "source": [
    "plot_hist(prs.flatten())"
   ]
  },
  {
   "cell_type": "code",
   "execution_count": null,
   "metadata": {},
   "outputs": [],
   "source": [
    "prs.mean()"
   ]
  },
  {
   "cell_type": "code",
   "execution_count": null,
   "metadata": {
    "pycharm": {
     "name": "#%%\n"
    }
   },
   "outputs": [],
   "source": [
    "\n",
    "selected_masked = [1256, 1963, 1688, 2365] "
   ]
  },
  {
   "cell_type": "code",
   "execution_count": null,
   "metadata": {},
   "outputs": [],
   "source": [
    "x, y, z = numpy.where(mask)\n",
    "for s in selected_masked:\n",
    "    print(s)\n",
    "    print(z[s], y[s], x[s])\n",
    "    \n",
    "    print('here', s, y[s] / 28, x[s] / 21)\n",
    "    \n",
    "print(mask.shape)"
   ]
  },
  {
   "cell_type": "code",
   "execution_count": null,
   "metadata": {},
   "outputs": [],
   "source": [
    "for s in selected_masked:\n",
    "    save_idx(s, name=str(s))"
   ]
  },
  {
   "cell_type": "code",
   "execution_count": null,
   "metadata": {},
   "outputs": [],
   "source": [
    "p"
   ]
  },
  {
   "cell_type": "code",
   "execution_count": null,
   "metadata": {},
   "outputs": [],
   "source": []
  }
 ],
 "metadata": {
  "kernelspec": {
   "display_name": "Python 3",
   "language": "python",
   "name": "python3"
  },
  "language_info": {
   "codemirror_mode": {
    "name": "ipython",
    "version": 3
   },
   "file_extension": ".py",
   "mimetype": "text/x-python",
   "name": "python",
   "nbconvert_exporter": "python",
   "pygments_lexer": "ipython3",
   "version": "3.7.3"
  },
  "pycharm": {
   "stem_cell": {
    "cell_type": "raw",
    "metadata": {
     "collapsed": false
    },
    "source": []
   }
  }
 },
 "nbformat": 4,
 "nbformat_minor": 1
}
